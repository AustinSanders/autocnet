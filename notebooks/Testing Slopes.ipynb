{
 "cells": [
  {
   "cell_type": "markdown",
   "metadata": {},
   "source": [
    "This notebook demonstrates a test of autocnet on the New Horizons LORRI data"
   ]
  },
  {
   "cell_type": "code",
   "execution_count": null,
   "metadata": {
    "collapsed": false,
    "scrolled": true
   },
   "outputs": [],
   "source": [
    "import os\n",
    "import sys\n",
    "sys.path.insert(0, os.path.abspath('..'))\n",
    "\n",
    "import unittest\n",
    "\n",
    "from autocnet.examples import get_path\n",
    "from autocnet.fileio.io_controlnetwork import to_isis\n",
    "from autocnet.fileio.io_controlnetwork import write_filelist\n",
    "from autocnet.graph.network import CandidateGraph\n",
    "from autocnet.fileio import utils\n",
    "\n",
    "#%pylab inline\n",
    "%pylab qt4"
   ]
  },
  {
   "cell_type": "code",
   "execution_count": null,
   "metadata": {
    "collapsed": true
   },
   "outputs": [],
   "source": [
    "serial_numbers = {'AS15-M-0295_SML.png': '1971-07-31T01:24:11.754',\n",
    "                'AS15-M-0296_SML.png': '1971-07-31T01:24:36.970',\n",
    "                'AS15-M-0297_SML.png': '1971-07-31T01:25:02.243',\n",
    "                'AS15-M-0298_SML.png': '1971-07-31T01:25:27.457',\n",
    "                'AS15-M-0299_SML.png': '1971-07-31T01:25:52.669',\n",
    "                'AS15-M-0300_SML.png': '1971-07-31T01:26:17.923'}\n",
    "\n",
    "for k, v in serial_numbers.items():\n",
    "    serial_numbers[k] = 'APOLLO15/METRIC/{}'.format(v)\n",
    "\n",
    " "
   ]
  },
  {
   "cell_type": "code",
   "execution_count": null,
   "metadata": {
    "collapsed": true
   },
   "outputs": [],
   "source": [
    "adjacency = get_path('two_image_adjacency.json')\n",
    "basepath = get_path('Apollo15')\n",
    "cg = CandidateGraph.from_adjacency(adjacency, basepath=basepath)\n",
    "\n",
    "cg.extract_features(method='sift', extractor_parameters={\"nfeatures\":500})\n",
    "cg.match_features(k=2)"
   ]
  },
  {
   "cell_type": "code",
   "execution_count": null,
   "metadata": {
    "collapsed": true
   },
   "outputs": [],
   "source": [
    "for source, destination, edge in cg.edges_iter(data=True):\n",
    "    # Perform the symmetry check\n",
    "    edge.symmetry_check()\n",
    "    # Perform the ratio test\n",
    "    edge.ratio_check(clean_keys=['symmetry'])"
   ]
  },
  {
   "cell_type": "code",
   "execution_count": null,
   "metadata": {
    "collapsed": false
   },
   "outputs": [],
   "source": [
    "cg.apply_func_to_edges(\"compute_fundamental_matrix\", clean_keys=['symmetry', 'ratio'])"
   ]
  },
  {
   "cell_type": "code",
   "execution_count": null,
   "metadata": {
    "collapsed": false
   },
   "outputs": [],
   "source": [
    "f = cg.edge[0][1].fundamental_matrix\n",
    "f"
   ]
  },
  {
   "cell_type": "code",
   "execution_count": null,
   "metadata": {
    "collapsed": false
   },
   "outputs": [],
   "source": [
    "len((f.x2.y.values - f.x1.y.values)/(f.x2.x.values - f.x1.x.values))"
   ]
  },
  {
   "cell_type": "code",
   "execution_count": null,
   "metadata": {
    "collapsed": false
   },
   "outputs": [],
   "source": [
    "df=utils.calculate_slope(f.x1, f.x2)\n",
    "df.values.ravel()"
   ]
  },
  {
   "cell_type": "code",
   "execution_count": null,
   "metadata": {
    "collapsed": false
   },
   "outputs": [],
   "source": [
    "f.mask[f.mask==True]"
   ]
  },
  {
   "cell_type": "code",
   "execution_count": null,
   "metadata": {
    "collapsed": false
   },
   "outputs": [],
   "source": [
    "f.refine(df=utils.calculate_slope(f.x1, f.x2))"
   ]
  },
  {
   "cell_type": "code",
   "execution_count": null,
   "metadata": {
    "collapsed": true
   },
   "outputs": [],
   "source": [
    "f.rollback()"
   ]
  },
  {
   "cell_type": "code",
   "execution_count": null,
   "metadata": {
    "collapsed": false
   },
   "outputs": [],
   "source": [
    "f.mask"
   ]
  },
  {
   "cell_type": "code",
   "execution_count": null,
   "metadata": {
    "collapsed": false
   },
   "outputs": [],
   "source": [
    "figsize(18,18)\n",
    "fig, ax = plt.subplots(1,1)\n",
    "ax = cg.edge[0][1].plot(clean_keys=['ratio', 'fundamental'], ax=ax)"
   ]
  },
  {
   "cell_type": "code",
   "execution_count": null,
   "metadata": {
    "collapsed": false,
    "scrolled": true
   },
   "outputs": [],
   "source": [
    "figsize(18,18)\n",
    "fig, ax = plt.subplots(1,1)\n",
    "ax = cg.edge[0][2].plot(clean_keys=['ratio', 'symmetry', 'fundamental', 'subpixel'], ax=ax)"
   ]
  },
  {
   "cell_type": "code",
   "execution_count": null,
   "metadata": {
    "collapsed": true
   },
   "outputs": [],
   "source": [
    "\n",
    "        for source, destination, edge in cg.edges_iter(data=True):\n",
    "\n",
    "            # Perform the symmetry check\n",
    "            edge.symmetry_check()\n",
    "            self.assertIn(edge.masks['symmetry'].sum(), range(400, 600))\n",
    "\n",
    "            # Perform the ratio test\n",
    "            edge.ratio_check(clean_keys=['symmetry'])\n",
    "            self.assertIn(edge.masks['ratio'].sum(), range(40, 100))\n",
    "\n",
    "        # Step: Compute the homographies and apply RANSAC\n",
    "        cg.apply_func_to_edges(\"compute_homography\", clean_keys=['symmetry', 'ratio'])\n",
    "\n",
    "        # Step: Compute the overlap ratio and coverage ratio\n",
    "        for s, d, edge in cg.edges_iter(data=True):\n",
    "            edge.coverage_ratio(clean_keys=['symmetry', 'ratio'])\n",
    "\n",
    "        # Step: Compute subpixel offsets for candidate points\n",
    "        cg.apply_func_to_edges(\"subpixel_register\", clean_keys=['ransac'])\n",
    "\n",
    "        # Step: And create a C object\n",
    "        cnet = cg.to_cnet(clean_keys=['symmetry', 'ratio', 'ransac', 'subpixel'])\n",
    "\n",
    "        # Step: Create a fromlist to go with the cnet and write it to a file\n",
    "        filelist = cg.to_filelist()\n",
    "        write_filelist(filelist, path=\"fromlis.lis\")\n",
    "\n",
    "        # Step update the serial numbers\n",
    "        nid_to_serial = {}\n",
    "        for i, node in cg.nodes_iter(data=True):\n",
    "            nid_to_serial[i] = self.serial_numbers[node.image_name]\n",
    "\n",
    "        cnet.replace({'nid': nid_to_serial}, inplace=True)\n",
    "        # Step: Output a control network\n",
    "        to_isis('TestTwoImageMatching.net', cnet, mode='wb',\n",
    "                networkid='TestTwoImageMatching', targetname='Moon')"
   ]
  }
 ],
 "metadata": {
  "kernelspec": {
   "display_name": "Python 3",
   "language": "python",
   "name": "python3"
  },
  "language_info": {
   "codemirror_mode": {
    "name": "ipython",
    "version": 3
   },
   "file_extension": ".py",
   "mimetype": "text/x-python",
   "name": "python",
   "nbconvert_exporter": "python",
   "pygments_lexer": "ipython3",
   "version": "3.5.1"
  }
 },
 "nbformat": 4,
 "nbformat_minor": 0
}
