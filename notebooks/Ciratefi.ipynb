{
 "cells": [
  {
   "cell_type": "code",
   "execution_count": 29,
   "metadata": {
    "collapsed": false
   },
   "outputs": [],
   "source": [
    "import os\n",
    "import sys\n",
    "sys.path.insert(0, os.path.abspath('..'))\n",
    "\n",
    "from autocnet.examples import get_path\n",
    "from autocnet.graph.network import CandidateGraph\n",
    "from autocnet.graph.edge import Edge\n",
    "from autocnet.matcher.matcher import FlannMatcher\n",
    "\n",
    "from scipy.misc import imresize\n",
    "import math\n",
    "\n",
    "from IPython.display import display\n",
    "\n",
    "%matplotlib inline"
   ]
  },
  {
   "cell_type": "markdown",
   "metadata": {},
   "source": [
    "# Create Basic Structures"
   ]
  },
  {
   "cell_type": "code",
   "execution_count": 30,
   "metadata": {
    "collapsed": false
   },
   "outputs": [
    {
     "name": "stderr",
     "output_type": "stream",
     "text": [
      "/scratch/autocnet/autocnet/matcher/outlier_detector.py:261: UserWarning: Unable to optimally solve.  Returning with 276 points\n",
      "  warnings.warn('Unable to optimally solve.  Returning with {} points'.format(len(result)))\n"
     ]
    }
   ],
   "source": [
    "#Point to the adjacency Graph\n",
    "adjacency = get_path('three_image_adjacency.json')\n",
    "basepath = get_path('Apollo15')\n",
    "cg = CandidateGraph.from_adjacency(adjacency, basepath=basepath)\n",
    "\n",
    "#Apply SIFT to extract features\n",
    "cg.extract_features(method='sift', extractor_parameters={'nfeatures':500})\n",
    "\n",
    "#Match\n",
    "cg.match_features()\n",
    "\n",
    "# Perform the symmetry check\n",
    "cg.symmetry_checks()\n",
    "# Perform the ratio check\n",
    "cg.ratio_checks(clean_keys = ['symmetry'])\n",
    "# Create fundamental matrix\n",
    "cg.compute_fundamental_matrices(clean_keys = ['symmetry', 'ratio'])\n",
    "\n",
    "\n",
    "# Step: Compute the homographies and apply RANSAC\n",
    "cg.compute_homographies(clean_keys=['symmetry', 'ratio'])\n",
    "\n",
    "# Step: Compute the overlap ratio and coverage ratio\n",
    "for s, d, edge in cg.edges_iter(data=True):\n",
    "    edge.coverage_ratio(clean_keys=['symmetry', 'ratio'])\n",
    "\n",
    "# Step: Compute subpixel offsets for candidate points\n",
    "cg.subpixel_register(clean_keys=['ransac'])\n",
    "\n",
    "cg.suppress()"
   ]
  },
  {
   "cell_type": "markdown",
   "metadata": {},
   "source": [
    "# Def all the things"
   ]
  },
  {
   "cell_type": "code",
   "execution_count": 31,
   "metadata": {
    "collapsed": false
   },
   "outputs": [],
   "source": [
    "def cifi(arr, scales=[0.5, 0.57, 0.66,  0.76, 0.87, 1.0], radii=list(range(1,12))):\n",
    "    \n",
    "    result = np.empty((len(scales), len(radii)))\n",
    "    \n",
    "    for i, s in enumerate(scales):\n",
    "        new_arr = imresize(arr, s)\n",
    "        for j, r in enumerate(radii):\n",
    "            inv_area = 1 / (2 * math.pi * r)\n",
    "            r *= r\n",
    "            # Generate a circular mask\n",
    "            a, b = (int(new_arr.shape[0] / 2),\n",
    "                    int(new_arr.shape[1] / 2))\n",
    "            \n",
    "            nx, ny = new_arr.shape\n",
    "            y, x = np.ogrid[-a: ny - a, -b: nx - b]\n",
    "            mask = x*x + y* y <= r**2\n",
    "\n",
    "            # Reset the center pixels to be False\n",
    "            y, x = np.ogrid[-a: ny - a, -b: nx - b]\n",
    "            mask2 = x*x + y* y <= (r - 1)**2\n",
    "            mask[mask2==True] = False\n",
    "            \n",
    "            s = np.sum(new_arr[mask]) * inv_area\n",
    "            \n",
    "            if s == 0:\n",
    "                s = -1\n",
    "            result[i,j] = s\n",
    "    return result\n",
    "    \n",
    "def cifi2(arr, radii=list(range(1,12))):\n",
    "    result = np.empty((arr.shape[0], arr.shape[1], len(radii)))\n",
    "    \n",
    "    for i, y in enumerate(range(arr.shape[0])):\n",
    "        for j, x in enumerate(range(arr.shape[1])):\n",
    "            for k, r in enumerate(radii):\n",
    "                inv_area = 1 / (2 * math.pi * r)\n",
    "                r *= r\n",
    "                # Generate a circular mask\n",
    "                a, b = i, j\n",
    "\n",
    "                nx, ny = arr.shape\n",
    "                y, x = np.ogrid[-a: ny - a, -b: nx - b]\n",
    "                mask = x*x + y* y <= r**2\n",
    "\n",
    "                # Reset the center pixels to be False\n",
    "                y, x = np.ogrid[-a: ny - a, -b: nx - b]\n",
    "                mask2 = x*x + y* y <= (r - 1)**2\n",
    "                mask[mask2==True] = False\n",
    "\n",
    "                s = np.sum(arr[mask]) * inv_area\n",
    "\n",
    "                if s == 0:\n",
    "                    s = -1\n",
    "                result[i, j, k] = s\n",
    "    return result\n",
    "    \n",
    "def ciratefi(template, image, upsampling=1):\n",
    "    if upsampling < 1:\n",
    "        raise ValueError\n",
    "\n",
    "    u_template = zoom(template, upsampling, order=1)\n",
    "    u_image = zoom(image, upsampling, order=1)\n",
    "    \n",
    "    cifi_template = cifi(u_template)\n",
    "    cifi_search = cifi2(u_image)\n",
    "    \n",
    "    coeffs = np.empty((cifi_search.shape[0], cifi_search.shape[1]))\n",
    "    for y, l in enumerate(range(cifi_search.shape[0])):\n",
    "        for x, m in enumerate(range(cifi_search.shape[1])):\n",
    "            for i, k in enumerate(range(cifi_template.shape[0])):\n",
    "                maxcoeff = -math.inf\n",
    "                coeff = np.corrcoef(cifi_template[i], cifi_search[y,x])[0,1]\n",
    "                if coeff > maxcoeff:\n",
    "                    maxcoeff = coeff\n",
    "            coeffs[y, x] = maxcoeff\n",
    "    imshow(coeffs, interpolation='none')\n",
    "    colorbar()"
   ]
  },
  {
   "cell_type": "markdown",
   "metadata": {},
   "source": [
    "# Do Stuff"
   ]
  },
  {
   "cell_type": "code",
   "execution_count": 32,
   "metadata": {
    "collapsed": false
   },
   "outputs": [
    {
     "ename": "NameError",
     "evalue": "name 'sp' is not defined",
     "output_type": "error",
     "traceback": [
      "\u001b[1;31m---------------------------------------------------------------------------\u001b[0m",
      "\u001b[1;31mNameError\u001b[0m                                 Traceback (most recent call last)",
      "\u001b[1;32m<ipython-input-32-484d1b03b230>\u001b[0m in \u001b[0;36m<module>\u001b[1;34m()\u001b[0m\n\u001b[0;32m     26\u001b[0m \u001b[1;33m\u001b[0m\u001b[0m\n\u001b[0;32m     27\u001b[0m     \u001b[1;31m# Get the template and search windows\u001b[0m\u001b[1;33m\u001b[0m\u001b[1;33m\u001b[0m\u001b[0m\n\u001b[1;32m---> 28\u001b[1;33m     \u001b[0ms_template\u001b[0m \u001b[1;33m=\u001b[0m \u001b[0msp\u001b[0m\u001b[1;33m.\u001b[0m\u001b[0mclip_roi\u001b[0m\u001b[1;33m(\u001b[0m\u001b[0me\u001b[0m\u001b[1;33m.\u001b[0m\u001b[0msource\u001b[0m\u001b[1;33m.\u001b[0m\u001b[0mhandle\u001b[0m\u001b[1;33m,\u001b[0m \u001b[0ms_keypoint\u001b[0m\u001b[1;33m,\u001b[0m\u001b[1;36m9\u001b[0m\u001b[1;33m)\u001b[0m\u001b[1;33m\u001b[0m\u001b[0m\n\u001b[0m\u001b[0;32m     29\u001b[0m     \u001b[0md_search\u001b[0m \u001b[1;33m=\u001b[0m \u001b[0msp\u001b[0m\u001b[1;33m.\u001b[0m\u001b[0mclip_roi\u001b[0m\u001b[1;33m(\u001b[0m\u001b[0me\u001b[0m\u001b[1;33m.\u001b[0m\u001b[0mdestination\u001b[0m\u001b[1;33m.\u001b[0m\u001b[0mhandle\u001b[0m\u001b[1;33m,\u001b[0m \u001b[0md_keypoint\u001b[0m\u001b[1;33m,\u001b[0m \u001b[1;36m51\u001b[0m\u001b[1;33m)\u001b[0m\u001b[1;33m\u001b[0m\u001b[0m\n\u001b[0;32m     30\u001b[0m     \u001b[0mimshow\u001b[0m\u001b[1;33m(\u001b[0m\u001b[0ms_template\u001b[0m\u001b[1;33m,\u001b[0m \u001b[0mcmap\u001b[0m\u001b[1;33m=\u001b[0m\u001b[1;34m'Greys'\u001b[0m\u001b[1;33m)\u001b[0m\u001b[1;33m\u001b[0m\u001b[0m\n",
      "\u001b[1;31mNameError\u001b[0m: name 'sp' is not defined"
     ]
    }
   ],
   "source": [
    "from scipy.ndimage.interpolation import zoom\n",
    "from scipy.stats.stats import pearsonr \n",
    "\n",
    "figsize(10,10)\n",
    "e = cg.edge[0][1]\n",
    "matches = e.matches\n",
    "clean_keys = ['suppression']\n",
    "\n",
    "full_offsets = np.zeros((len(matches), 3))\n",
    "\n",
    "if clean_keys:\n",
    "    matches, mask = e._clean(clean_keys)\n",
    "\n",
    "# Preallocate the numpy array to avoid appending and type conversion\n",
    "edge_offsets = np.empty((len(matches),3))\n",
    "\n",
    "# for each edge, calculate this for each keypoint pair\n",
    "for i, (idx, row) in enumerate(matches.iterrows()):\n",
    "    s_idx = int(row['source_idx'])\n",
    "    d_idx = int(row['destination_idx'])\n",
    "    s_kps = e.source.get_keypoints().iloc[s_idx]\n",
    "    d_kps = e.destination.get_keypoints().iloc[d_idx]\n",
    "\n",
    "    s_keypoint = e.source.get_keypoints().iloc[s_idx][['x', 'y']].values\n",
    "    d_keypoint = e.destination.get_keypoints().iloc[d_idx][['x', 'y']].values\n",
    "\n",
    "    # Get the template and search windows\n",
    "    s_template = sp.clip_roi(e.source.handle, s_keypoint,9)\n",
    "    d_search = sp.clip_roi(e.destination.handle, d_keypoint, 51)\n",
    "    imshow(s_template, cmap='Greys')\n",
    "    show()\n",
    "    imshow(d_search, cmap='Greys')\n",
    "    show()\n",
    "    \n",
    "    ciratefi(s_template, d_search, upsampling=1)\n",
    "    break"
   ]
  },
  {
   "cell_type": "code",
   "execution_count": null,
   "metadata": {
    "collapsed": true
   },
   "outputs": [],
   "source": []
  }
 ],
 "metadata": {
  "kernelspec": {
   "display_name": "Python 3",
   "language": "python",
   "name": "python3"
  },
  "language_info": {
   "codemirror_mode": {
    "name": "ipython",
    "version": 3
   },
   "file_extension": ".py",
   "mimetype": "text/x-python",
   "name": "python",
   "nbconvert_exporter": "python",
   "pygments_lexer": "ipython3",
   "version": "3.5.1"
  }
 },
 "nbformat": 4,
 "nbformat_minor": 0
}
