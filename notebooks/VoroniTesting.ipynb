{
 "cells": [
  {
   "cell_type": "code",
   "execution_count": 83,
   "metadata": {
    "collapsed": false
   },
   "outputs": [
    {
     "name": "stdout",
     "output_type": "stream",
     "text": [
      "Populating the interactive namespace from numpy and matplotlib\n"
     ]
    },
    {
     "name": "stderr",
     "output_type": "stream",
     "text": [
      "/Users/adampaquette/anaconda/envs/autocnet2/lib/python3.5/site-packages/IPython/core/magics/pylab.py:161: UserWarning: pylab import has clobbered these variables: ['e']\n",
      "`%matplotlib` prevents importing * from pylab and numpy\n",
      "  \"\\n`%matplotlib` prevents importing * from pylab and numpy\"\n"
     ]
    }
   ],
   "source": [
    "import os\n",
    "import sys\n",
    "sys.path.insert(0, os.path.abspath('..'))\n",
    "\n",
    "import plio\n",
    "from plio.io import io_gdal\n",
    "import numpy as np\n",
    "from autocnet import utils\n",
    "from autocnet.cg import cg as ag\n",
    "import pandas\n",
    "import ogr\n",
    "from autocnet.examples import get_path\n",
    "from autocnet.graph.network import CandidateGraph\n",
    "from autocnet.graph import edge\n",
    "from autocnet.graph import node\n",
    "from unittest.mock import Mock\n",
    "from unittest.mock import MagicMock\n",
    "from unittest.mock import PropertyMock\n",
    "from autocnet.matcher.feature import FlannMatcher\n",
    "from scipy.spatial import Voronoi, voronoi_plot_2d\n",
    "import matplotlib.path as mpath\n",
    "import matplotlib.patches as mpatch\n",
    "\n",
    "from IPython.display import display\n",
    "\n",
    "%matplotlib inline\n",
    "%pylab inline"
   ]
  },
  {
   "cell_type": "code",
   "execution_count": 84,
   "metadata": {
    "collapsed": false
   },
   "outputs": [],
   "source": [
    "def scale_poly(point, centroid, scalar):\n",
    "    point = np.asarray(point)\n",
    "    centroid = centroid[:2]\n",
    "    vector = ((point - centroid)*scalar) + centroid\n",
    "    return (vector)"
   ]
  },
  {
   "cell_type": "code",
   "execution_count": 85,
   "metadata": {
    "collapsed": false
   },
   "outputs": [],
   "source": [
    "def compute_vor_weight(vor, voronoi_df, poly_array, intersection_poly, node, verbose):\n",
    "    i = 0\n",
    "    for region in vor.regions:\n",
    "        region_point = vor.points[np.argwhere(vor.point_region==i)]\n",
    "        if not -1 in region:\n",
    "            polygon_points = [vor.vertices[i] for i in region]\n",
    "            if len(polygon_points) != 0:\n",
    "                polygon = utils.utils.array_to_poly(polygon_points)\n",
    "                intersection = polygon.Intersection(intersection_poly)\n",
    "                poly_array = np.append(poly_array, intersection)\n",
    "                polygon_area = intersection.GetArea()\n",
    "                voronoi_df.loc[(voronoi_df[node + \"_x\"] == region_point[0][0][0]) & (voronoi_df[node + \"_y\"] == region_point[0][0][1]), node + '_weights'] = polygon_area\n",
    "        i+=1\n",
    "        \n",
    "    if (verbose):\n",
    "        polygons = poly_array\n",
    "        for i in polygons:\n",
    "            geom = i.GetGeometryRef(0)\n",
    "            points = geom.GetPoints()\n",
    "            plt.fill(*zip(*points), alpha = .6)\n",
    "    \n",
    "    "
   ]
  },
  {
   "cell_type": "code",
   "execution_count": 86,
   "metadata": {
    "collapsed": false
   },
   "outputs": [],
   "source": [
    "def voronoi(edge, clean_keys=[], k = 30, source_verbose = False, destination_verbose = False):\n",
    "    source_footprint_poly = edge.source.geodata.footprint\n",
    "    destination_footprint_poly = edge.destination.geodata.footprint\n",
    "    intersection_poly = destination_footprint_poly.Intersection(source_footprint_poly)\n",
    "    matches, mask = edge.clean(clean_keys=clean_keys)\n",
    "    \n",
    "    source_indices = pandas.Index(matches['source_idx'].values)\n",
    "    destination_indices = pandas.Index(matches['destination_idx'].values)\n",
    "    \n",
    "    intersection_geom = intersection_poly.GetGeometryRef(0)\n",
    "    intersect_points = intersection_geom.GetPoints()\n",
    "\n",
    "    source_pixel_intersect_points = [edge.source.geodata.latlon_to_pixel(lat, lon) for lat, lon in intersect_points]\n",
    "    dest_pixel_intersect_points = [edge.destination.geodata.latlon_to_pixel(lat, lon) for lat, lon in intersect_points]\n",
    "\n",
    "    source_keypointsPd = edge.source.get_keypoint_coordinates(index=source_indices)\n",
    "    destination_keypointsPd = edge.destination.get_keypoint_coordinates(index=destination_indices)\n",
    "    \n",
    "    source_convex_coords = edge.source.geodata.xy_corners\n",
    "    destination_convex_coords = edge.destination.geodata.xy_corners\n",
    "    \n",
    "    voronoi_df = pandas.DataFrame(source_keypointsPd, columns = [\"source_x\", \"source_y\", \"source_weights\", \n",
    "                                                                 \"destination_x\", \"destination_y\", \n",
    "                                                                 \"destination_weights\"])\n",
    "    voronoi_df[\"source_x\"] = source_keypointsPd[\"x\"]\n",
    "    voronoi_df[\"source_y\"] = source_keypointsPd[\"y\"]\n",
    "    voronoi_df[\"destination_x\"] = destination_keypointsPd[\"x\"]\n",
    "    voronoi_df[\"destination_y\"] = destination_keypointsPd[\"y\"]\n",
    "\n",
    "    source_keypoints = np.asarray(source_keypointsPd)\n",
    "    destination_keypoints = np.asarray(destination_keypointsPd)\n",
    "    centroid = intersection_poly.Centroid().GetPoint()\n",
    "    \n",
    "    for i, j in source_pixel_intersect_points:\n",
    "        new_point = scale_poly((i, j), centroid, k)\n",
    "        point = np.array([new_point])\n",
    "        source_keypoints = np.append(source_keypoints, point, axis=0)\n",
    "        \n",
    "    for i, j in dest_pixel_intersect_points:\n",
    "        new_point = scale_poly((i, j), centroid, k)\n",
    "        point = np.array([new_point])\n",
    "        destination_keypoints = np.append(destination_keypoints, point, axis=0)\n",
    "    \n",
    "    source_vor_polygons = []\n",
    "    destination_vor_polygons = []\n",
    "    source_vor = Voronoi(source_keypoints, incremental = True)\n",
    "    destination_vor = Voronoi(destination_keypoints, incremental = True)\n",
    "    \n",
    "    compute_vor_weight(source_vor, voronoi_df, source_vor_polygons, intersection_poly, 'source', source_verbose)\n",
    "    compute_vor_weight(destination_vor, voronoi_df, destination_vor_polygons, intersection_poly, 'destination', destination_verbose)\n",
    "    \n",
    "    return source_vor, destination_vor, voronoi_df"
   ]
  },
  {
   "cell_type": "code",
   "execution_count": 87,
   "metadata": {
    "collapsed": false
   },
   "outputs": [],
   "source": [
    "adjacency = get_path('two_image_adjacency.json')\n",
    "basepath = get_path('Apollo15')\n",
    "cg = CandidateGraph.from_adjacency(adjacency, basepath=basepath)\n",
    "keypoint_df = pandas.DataFrame({'x': (15, 18, 18, 12, 12), 'y': (5, 10, 15, 15, 10)})\n",
    "keypoint_matches = [[0, 0, 1, 0],\n",
    "                    [0, 1, 1, 1],\n",
    "                    [0, 2, 1, 2],\n",
    "                    [0, 3, 1, 3],\n",
    "                    [0, 4, 1, 4]]\n",
    "\n",
    "matches_df = pandas.DataFrame(data = keypoint_matches, columns = ['source_image', 'source_idx', \n",
    "                                                                  'destination_image', 'destination_idx'])\n",
    "e = edge.Edge()\n",
    "\n",
    "e.clean = MagicMock(return_value=(matches_df, None))\n",
    "\n",
    "source_node = MagicMock(spec = node.Node())\n",
    "destination_node = MagicMock(spec = node.Node())\n",
    "\n",
    "source_node.get_keypoint_coordinates = MagicMock(return_value=keypoint_df)\n",
    "destination_node.get_keypoint_coordinates = MagicMock(return_value=keypoint_df)\n",
    "\n",
    "e.source = source_node\n",
    "e.destination = destination_node\n",
    "\n",
    "source_geodata = Mock(spec = io_gdal.GeoDataset)\n",
    "destination_geodata = Mock(spec = io_gdal.GeoDataset)\n",
    "\n",
    "e.source.geodata = source_geodata\n",
    "e.destination.geodata = destination_geodata\n",
    "\n",
    "source_corners = [(0, 0),\n",
    "                  (20, 0),\n",
    "                  (20, 20),\n",
    "                  (0, 20)]\n",
    "\n",
    "destination_corners = [(10, 5),\n",
    "                       (30, 5),\n",
    "                       (30, 25),\n",
    "                       (10, 25)]\n",
    "\n",
    "source_xy_extent = [(0, 20), (0, 20)]\n",
    "\n",
    "destination_xy_extent = [(10, 30), (5, 25)]\n",
    "\n",
    "source_poly = utils.utils.array_to_poly(source_corners)\n",
    "destination_poly = utils.utils.array_to_poly(destination_corners)\n",
    "\n",
    "vals = {(10, 5):(10, 5), (20, 5):(20, 5), (20, 20):(20, 20), (10, 20):(10, 20)}\n",
    "\n",
    "def latlon_to_pixel(i, j):\n",
    "    return vals[(i, j)]\n",
    "\n",
    "e.source.geodata.latlon_to_pixel = MagicMock(side_effect = latlon_to_pixel)\n",
    "e.destination.geodata.latlon_to_pixel = MagicMock(side_effect = latlon_to_pixel)\n",
    "\n",
    "e.source.geodata.footprint = source_poly\n",
    "e.source.geodata.xy_corners = source_corners\n",
    "e.source.geodata.xy_extent = source_xy_extent\n",
    "e.destination.geodata.footprint = destination_poly\n",
    "e.destination.geodata.xy_corners = destination_corners\n",
    "e.destination.geodata.xy_extent = destination_xy_extent"
   ]
  },
  {
   "cell_type": "code",
   "execution_count": 88,
   "metadata": {
    "collapsed": false,
    "scrolled": false
   },
   "outputs": [
    {
     "name": "stdout",
     "output_type": "stream",
     "text": [
      "[(0, 20), (0, 20)]\n"
     ]
    },
    {
     "data": {
      "image/png": "[encoded data removed]",
      "text/plain": [
       "<matplotlib.figure.Figure at 0x11f16c3c8>"
      ]
     },
     "metadata": {},
     "output_type": "display_data"
    }
   ],
   "source": [
    "vor = voronoi(e, clean_keys=[], source_verbose = True, destination_verbose = False, k = 3)\n",
    "source_extent = e.source.geodata.xy_extent\n",
    "plt.xlim(source_extent[0][0], source_extent[0][1])\n",
    "plt.ylim(source_extent[1][0], source_extent[1][1])\n",
    "#voronoi_plot_2d(vor[0])\n",
    "plt.show()"
   ]
  },
  {
   "cell_type": "code",
   "execution_count": 89,
   "metadata": {
    "collapsed": false
   },
   "outputs": [
    {
     "data": {
      "image/png": "[encoded data removed]",
      "text/plain": [
       "<matplotlib.figure.Figure at 0x11f799e48>"
      ]
     },
     "metadata": {},
     "output_type": "display_data"
    }
   ],
   "source": [
    "vor = voronoi(e, clean_keys=[], source_verbose = False, destination_verbose = True, k = 3)\n",
    "destination_extent = e.destination.geodata.xy_extent\n",
    "plt.xlim(destination_extent[0][0], destination_extent[0][1])\n",
    "plt.ylim(destination_extent[1][0], destination_extent[1][1])\n",
    "#voronoi_plot_2d(vor[0])\n",
    "plt.show()"
   ]
  },
  {
   "cell_type": "code",
   "execution_count": 82,
   "metadata": {
    "collapsed": false
   },
   "outputs": [
    {
     "name": "stdout",
     "output_type": "stream",
     "text": [
      "[(0, 0), (500, 500)]\n"
     ]
    },
    {
     "ename": "AttributeError",
     "evalue": "'GeoDataset' object has no attribute '_latlon_extent'",
     "output_type": "error",
     "traceback": [
      "\u001b[0;31m---------------------------------------------------------------------------\u001b[0m",
      "\u001b[0;31mAttributeError\u001b[0m                            Traceback (most recent call last)",
      "\u001b[0;32m<ipython-input-82-b4e58be0bdea>\u001b[0m in \u001b[0;36m<module>\u001b[0;34m()\u001b[0m\n\u001b[1;32m     19\u001b[0m \u001b[0mcg\u001b[0m\u001b[0;34m.\u001b[0m\u001b[0mapply_func_to_edges\u001b[0m\u001b[0;34m(\u001b[0m\u001b[0;34m\"compute_fundamental_matrix\"\u001b[0m\u001b[0;34m,\u001b[0m \u001b[0mclean_keys\u001b[0m\u001b[0;34m=\u001b[0m\u001b[0;34m[\u001b[0m\u001b[0;34m'ratio'\u001b[0m\u001b[0;34m,\u001b[0m \u001b[0;34m'symmetry'\u001b[0m\u001b[0;34m]\u001b[0m\u001b[0;34m)\u001b[0m\u001b[0;34m\u001b[0m\u001b[0m\n\u001b[1;32m     20\u001b[0m \u001b[0mprint\u001b[0m\u001b[0;34m(\u001b[0m\u001b[0mcg\u001b[0m\u001b[0;34m.\u001b[0m\u001b[0medge\u001b[0m\u001b[0;34m[\u001b[0m\u001b[0;36m0\u001b[0m\u001b[0;34m]\u001b[0m\u001b[0;34m[\u001b[0m\u001b[0;36m1\u001b[0m\u001b[0;34m]\u001b[0m\u001b[0;34m.\u001b[0m\u001b[0msource\u001b[0m\u001b[0;34m.\u001b[0m\u001b[0mgeodata\u001b[0m\u001b[0;34m.\u001b[0m\u001b[0mxy_extent\u001b[0m\u001b[0;34m)\u001b[0m\u001b[0;34m\u001b[0m\u001b[0m\n\u001b[0;32m---> 21\u001b[0;31m \u001b[0mprint\u001b[0m\u001b[0;34m(\u001b[0m\u001b[0mcg\u001b[0m\u001b[0;34m.\u001b[0m\u001b[0medge\u001b[0m\u001b[0;34m[\u001b[0m\u001b[0;36m0\u001b[0m\u001b[0;34m]\u001b[0m\u001b[0;34m[\u001b[0m\u001b[0;36m1\u001b[0m\u001b[0;34m]\u001b[0m\u001b[0;34m.\u001b[0m\u001b[0msource\u001b[0m\u001b[0;34m.\u001b[0m\u001b[0mgeodata\u001b[0m\u001b[0;34m.\u001b[0m\u001b[0mlatlon_extent\u001b[0m\u001b[0;34m)\u001b[0m\u001b[0;34m\u001b[0m\u001b[0m\n\u001b[0m\u001b[1;32m     22\u001b[0m \u001b[0;31m#edge_source_vor = voronoi(cg.edge[0][1], \"source\", verbose = True)\u001b[0m\u001b[0;34m\u001b[0m\u001b[0;34m\u001b[0m\u001b[0m\n",
      "\u001b[0;32m/Users/adampaquette/anaconda/envs/autocnet2/lib/python3.5/site-packages/plio/io/io_gdal.py\u001b[0m in \u001b[0;36mlatlon_extent\u001b[0;34m(self)\u001b[0m\n\u001b[1;32m    275\u001b[0m \u001b[0;34m\u001b[0m\u001b[0m\n\u001b[1;32m    276\u001b[0m                     \u001b[0mself\u001b[0m\u001b[0;34m.\u001b[0m\u001b[0m_latlon_extent\u001b[0m\u001b[0;34m.\u001b[0m\u001b[0mappend\u001b[0m\u001b[0;34m(\u001b[0m\u001b[0;34m(\u001b[0m\u001b[0mx\u001b[0m\u001b[0;34m,\u001b[0m\u001b[0my\u001b[0m\u001b[0;34m)\u001b[0m\u001b[0;34m)\u001b[0m\u001b[0;34m\u001b[0m\u001b[0m\n\u001b[0;32m--> 277\u001b[0;31m         \u001b[0;32mreturn\u001b[0m \u001b[0mself\u001b[0m\u001b[0;34m.\u001b[0m\u001b[0m_latlon_extent\u001b[0m\u001b[0;34m\u001b[0m\u001b[0m\n\u001b[0m\u001b[1;32m    278\u001b[0m \u001b[0;34m\u001b[0m\u001b[0m\n\u001b[1;32m    279\u001b[0m     \u001b[0;34m@\u001b[0m\u001b[0mproperty\u001b[0m\u001b[0;34m\u001b[0m\u001b[0m\n",
      "\u001b[0;31mAttributeError\u001b[0m: 'GeoDataset' object has no attribute '_latlon_extent'"
     ]
    }
   ],
   "source": [
    "#Point to the adjacency Graph\n",
    "adjacency = get_path('cube_adjacency.json')\n",
    "basepath = get_path('Apollo15')\n",
    "cg = CandidateGraph.from_adjacency(adjacency, basepath=basepath)\n",
    "\n",
    "#Apply SIFT to extract features\n",
    "cg.extract_features(method='sift', extractor_parameters={'nfeatures':500})\n",
    "\n",
    "#Match\n",
    "cg.match_features()\n",
    "\n",
    "#Apply outlier detection\n",
    "cg.apply_func_to_edges(edge.Edge.symmetry_check)\n",
    "cg.apply_func_to_edges(edge.Edge.ratio_check)\n",
    "m = cg.edge[0][1].masks\n",
    "cg.minimum_spanning_tree()\n",
    "\n",
    "#Compute a homography and apply RANSAC\n",
    "cg.apply_func_to_edges(\"compute_fundamental_matrix\", clean_keys=['ratio', 'symmetry'])\n",
    "print(cg.edge[0][1].source.geodata.xy_extent)\n",
    "print(cg.edge[0][1].source.geodata.latlon_extent)\n",
    "#edge_source_vor = voronoi(cg.edge[0][1], \"source\", verbose = True)"
   ]
  }
 ],
 "metadata": {
  "anaconda-cloud": {},
  "kernelspec": {
   "display_name": "Python 3",
   "language": "python",
   "name": "python3"
  },
  "language_info": {
   "codemirror_mode": {
    "name": "ipython",
    "version": 3
   },
   "file_extension": ".py",
   "mimetype": "text/x-python",
   "name": "python",
   "nbconvert_exporter": "python",
   "pygments_lexer": "ipython3",
   "version": "3.5.2"
  }
 },
 "nbformat": 4,
 "nbformat_minor": 0
}
