{
 "cells": [
  {
   "cell_type": "code",
   "execution_count": null,
   "metadata": {
    "collapsed": false
   },
   "outputs": [],
   "source": [
    "import os\n",
    "import sys\n",
    "sys.path.insert(0, os.path.abspath('..'))\n",
    "\n",
    "import plio\n",
    "from plio.io import io_gdal\n",
    "import numpy as np\n",
    "from autocnet import utils\n",
    "from autocnet.cg import cg as ag\n",
    "import pandas\n",
    "import ogr\n",
    "from autocnet.examples import get_path\n",
    "from autocnet.graph.network import CandidateGraph\n",
    "from autocnet.graph import edge\n",
    "from autocnet.graph import node\n",
    "from unittest.mock import Mock\n",
    "from unittest.mock import MagicMock\n",
    "from unittest.mock import PropertyMock\n",
    "from autocnet.matcher.feature import FlannMatcher\n",
    "from scipy.spatial import Voronoi, voronoi_plot_2d\n",
    "import matplotlib.path as mpath\n",
    "import matplotlib.patches as mpatch\n",
    "\n",
    "from IPython.display import display\n",
    "\n",
    "%matplotlib inline\n",
    "%pylab inline"
   ]
  },
  {
   "cell_type": "code",
   "execution_count": null,
   "metadata": {
    "collapsed": false
   },
   "outputs": [],
   "source": [
    "def scale_poly(point, centroid, scalar):\n",
    "    point = np.asarray(point)\n",
    "    centroid = centroid[:2]\n",
    "    vector = ((point - centroid)*scalar) + centroid\n",
    "    return (vector)"
   ]
  },
  {
   "cell_type": "code",
   "execution_count": null,
   "metadata": {
    "collapsed": false
   },
   "outputs": [],
   "source": [
    "def voronoi(edge, node, clean_keys=[], k = 30, verbose = False):\n",
    "    #node = {'destination':destination, 'source':source}\n",
    "    destination_footprint_poly = edge.destination.geodata.footprint\n",
    "    source_footprint_poly = edge.source.geodata.footprint\n",
    "    image_poly = destination_footprint_poly.Intersection(source_footprint_poly)\n",
    "\n",
    "    if node == \"destination\":\n",
    "        matches, mask = edge.clean(clean_keys=clean_keys)\n",
    "        indices = pandas.Index(matches['destination_idx'].values)\n",
    "        \n",
    "        geom = image_poly.GetGeometryRef(0)\n",
    "        intersect_points = geom.GetPoints()\n",
    "        \n",
    "        pixel_intersect_points = [edge.destination.geodata.latlon_to_pixel(lat, lon) for lat, lon in intersect_points]\n",
    "        \n",
    "        keypointsPd = edge.destination.get_keypoint_coordinates(index=indices)\n",
    "        convex_coords = edge.destination.geodata.xy_corners\n",
    "        \n",
    "        \n",
    "    else:\n",
    "        matches, mask = edge.clean(clean_keys=clean_keys)\n",
    "        indices = pandas.Index(matches['source_idx'].values)\n",
    "        \n",
    "        geom = image_poly.GetGeometryRef(0)\n",
    "        intersect_points = geom.GetPoints()\n",
    "        \n",
    "        pixel_intersect_points = [edge.source.geodata.latlon_to_pixel(lat, lon) for lat, lon in intersect_points]\n",
    "        \n",
    "        keypointsPd = edge.source.get_keypoint_coordinates(index=indices)\n",
    "        convex_coords = edge.source.geodata.xy_corners\n",
    "    \n",
    "    voronoi_df = pandas.DataFrame(keypointsPd, columns = [\"x\", \"y\", \"weights\"])\n",
    "    keypoints = np.asarray(keypointsPd)\n",
    "    centroid = image_poly.Centroid().GetPoint()\n",
    "    \n",
    "    for i, j in pixel_intersect_points:\n",
    "        new_point = scale_poly((i, j), centroid, k)\n",
    "        point = np.array([new_point])\n",
    "        keypoints = np.append(keypoints, point, axis=0)\n",
    "    \n",
    "    vor_polygons = []\n",
    "    vor = Voronoi(keypoints, incremental = True)\n",
    "\n",
    "    i = 0\n",
    "    for region in vor.regions:\n",
    "        region_point = vor.points[np.argwhere(vor.point_region==i)]\n",
    "        if not -1 in region:\n",
    "            polygon_points = [vor.vertices[i] for i in region]\n",
    "            if len(polygon_points) != 0:\n",
    "                polygon = utils.utils.array_to_poly(polygon_points)\n",
    "                intersection = polygon.Intersection(image_poly)\n",
    "                vor_polygons = np.append(vor_polygons, intersection)\n",
    "                polygon_area = intersection.GetArea()\n",
    "                voronoi_df.loc[(voronoi_df.x == region_point[0][0][0]) & \n",
    "                               (voronoi_df.y == region_point[0][0][1]), 'weights'] = polygon_area\n",
    "        i+=1\n",
    "\n",
    "    if (verbose):\n",
    "        polygons = vor_polygons\n",
    "        for i in polygons:\n",
    "            geom = i.GetGeometryRef(0)\n",
    "            points = geom.GetPoints()\n",
    "            plt.fill(*zip(*points), alpha = .6)\n",
    "                \n",
    "    return vor, voronoi_df"
   ]
  },
  {
   "cell_type": "code",
   "execution_count": null,
   "metadata": {
    "collapsed": false
   },
   "outputs": [],
   "source": [
    "adjacency = get_path('two_image_adjacency.json')\n",
    "basepath = get_path('Apollo15')\n",
    "cg = CandidateGraph.from_adjacency(adjacency, basepath=basepath)\n",
    "keypoint_df = pandas.DataFrame({'x': (15, 18, 18, 12, 12), 'y': (5, 10, 15, 15, 10)})\n",
    "keypoint_matches = [[0, 0, 1, 0],\n",
    "                    [0, 1, 1, 1],\n",
    "                    [0, 2, 1, 2],\n",
    "                    [0, 3, 1, 3],\n",
    "                    [0, 4, 1, 4]]\n",
    "\n",
    "matches_df = pandas.DataFrame(data = keypoint_matches, columns = ['source_image', 'source_idx', \n",
    "                                                                  'destination_image', 'destination_idx'])\n",
    "e = edge.Edge()\n",
    "\n",
    "e.clean = MagicMock(return_value=(matches_df, None))\n",
    "\n",
    "source_node = MagicMock(spec = node.Node())\n",
    "destination_node = MagicMock(spec = node.Node())\n",
    "\n",
    "source_node.get_keypoint_coordinates = MagicMock(return_value=keypoint_df)\n",
    "destination_node.get_keypoint_coordinates = MagicMock(return_value=keypoint_df)\n",
    "\n",
    "e.source = source_node\n",
    "e.destination = destination_node\n",
    "\n",
    "source_geodata = Mock(spec = io_gdal.GeoDataset)\n",
    "destination_geodata = Mock(spec = io_gdal.GeoDataset)\n",
    "\n",
    "e.source.geodata = source_geodata\n",
    "e.destination.geodata = destination_geodata\n",
    "\n",
    "source_corners = [(0, 0),\n",
    "                  (20, 0),\n",
    "                  (20, 20),\n",
    "                  (0, 20)]\n",
    "\n",
    "destination_corners = [(10, 5),\n",
    "                       (30, 5),\n",
    "                       (30, 25),\n",
    "                       (10, 25)]\n",
    "\n",
    "source_poly = utils.utils.array_to_poly(source_corners)\n",
    "destination_poly = utils.utils.array_to_poly(destination_corners)\n",
    "\n",
    "vals = {(10, 5):(10, 5), (20, 5):(20, 5), (20, 20):(20, 20), (10, 20):(10, 20)}\n",
    "\n",
    "def latlon_to_pixel(i, j):\n",
    "    return vals[(i, j)]\n",
    "\n",
    "e.source.geodata.latlon_to_pixel = MagicMock(side_effect = latlon_to_pixel)\n",
    "e.destination.geodata.latlon_to_pixel = MagicMock(side_effect = latlon_to_pixel)\n",
    "\n",
    "e.source.geodata.footprint = source_poly\n",
    "e.source.geodata.xy_corners = source_corners\n",
    "e.destination.geodata.footprint = destination_poly\n",
    "e.destination.geodata.xy_corners = destination_corners"
   ]
  },
  {
   "cell_type": "code",
   "execution_count": null,
   "metadata": {
    "collapsed": false
   },
   "outputs": [],
   "source": [
    "source_vor = voronoi(e, 'source', clean_keys=[], verbose = True, k = 10)\n",
    "voronoi_plot_2d(source_vor[0])\n",
    "plt.show()"
   ]
  },
  {
   "cell_type": "code",
   "execution_count": null,
   "metadata": {
    "collapsed": false
   },
   "outputs": [],
   "source": [
    "destination_vor = voronoi(e, 'destination', clean_keys=[], verbose = True, k = 10)\n",
    "voronoi_plot_2d(destination_vor[0])\n",
    "plt.show()"
   ]
  }
 ],
 "metadata": {
  "anaconda-cloud": {},
  "kernelspec": {
   "display_name": "Python 3",
   "language": "python",
   "name": "python3"
  },
  "language_info": {
   "codemirror_mode": {
    "name": "ipython",
    "version": 3
   },
   "file_extension": ".py",
   "mimetype": "text/x-python",
   "name": "python",
   "nbconvert_exporter": "python",
   "pygments_lexer": "ipython3",
   "version": "3.5.2"
  }
 },
 "nbformat": 4,
 "nbformat_minor": 0
}
