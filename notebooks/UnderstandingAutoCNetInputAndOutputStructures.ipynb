{
 "cells": [
  {
   "cell_type": "code",
   "execution_count": 2,
   "metadata": {
    "collapsed": true
   },
   "outputs": [],
   "source": [
    "import sys\n",
    "sys.path.insert(0, '/scratch/autocnet')\n",
    "\n",
    "import networkx as nx # draw adjacency graph\n",
    "import os # get file path\n",
    "\n",
    "from scipy.misc import bytescale # store image array\n",
    "\n",
    "import autocnet\n",
    "import autocnet.fileio.io_json as io_json # read json file\n",
    "\n",
    "from autocnet.examples import get_path # get file path\n",
    "from autocnet.fileio.io_gdal import GeoDataset # set handle, get image as array\n",
    "from autocnet.graph.network import CandidateGraph #construct adjacency graph\n",
    "from autocnet.matcher import feature_extractor as fe # extract features from image\n",
    "from autocnet.matcher.matcher import FlannMatcher # match features between images"
   ]
  },
  {
   "cell_type": "code",
   "execution_count": 3,
   "metadata": {
    "collapsed": false
   },
   "outputs": [
    {
     "name": "stdout",
     "output_type": "stream",
     "text": [
      "Populating the interactive namespace from numpy and matplotlib\n"
     ]
    }
   ],
   "source": [
    "# display graphs in separate window to be able to change size\n",
    "# %pylab qt4\n",
    "# displays graphs in noteboook\n",
    "%pylab inline"
   ]
  },
  {
   "cell_type": "markdown",
   "metadata": {},
   "source": [
    "View the input json adjacency file\n",
    "--------------------------------------"
   ]
  },
  {
   "cell_type": "code",
   "execution_count": 4,
   "metadata": {
    "collapsed": false
   },
   "outputs": [
    {
     "name": "stdout",
     "output_type": "stream",
     "text": [
      "<class 'dict'>\n",
      "{'AS15-M-0297_SML.png': ['AS15-M-0298_SML.png'], 'AS15-M-0298_SML.png': ['AS15-M-0297_SML.png']}\n"
     ]
    }
   ],
   "source": [
    "adjacency_file = get_path('two_image_adjacency.json')\n",
    "# This file is a dictionary of images with a corresponding list of known adjacent images\n",
    "print(type(io_json.read_json(adjacency_file)))\n",
    "print( io_json.read_json(adjacency_file))"
   ]
  },
  {
   "cell_type": "markdown",
   "metadata": {},
   "source": [
    "View the Adjacency Graph\n",
    "---------------------------"
   ]
  },
  {
   "cell_type": "code",
   "execution_count": 5,
   "metadata": {
    "collapsed": false
   },
   "outputs": [
    {
     "data": {
      "image/png": "[encoded data removed]",
      "text/plain": [
       "<matplotlib.figure.Figure at 0x7f66640dc860>"
      ]
     },
     "metadata": {},
     "output_type": "display_data"
    }
   ],
   "source": [
    "# Create a dictionary of images and their serial numbers.\n",
    "serial_numbers = {'AS15-M-0295_SML.png': 'APOLLO15/METRIC/1971-07-31T01:24:11.754',\n",
    "                  'AS15-M-0296_SML.png': 'APOLLO15/METRIC/1971-07-31T01:24:36.970',\n",
    "                  'AS15-M-0297_SML.png': 'APOLLO15/METRIC/1971-07-31T01:25:02.243',\n",
    "                  'AS15-M-0298_SML.png': 'APOLLO15/METRIC/1971-07-31T01:25:27.457',\n",
    "                  'AS15-M-0299_SML.png': 'APOLLO15/METRIC/1971-07-31T01:25:52.669',\n",
    "                  'AS15-M-0300_SML.png': 'APOLLO15/METRIC/1971-07-31T01:26:17.923'}\n",
    "\n",
    "# Construct an adjacency graph from a json file and draw it.\n",
    "adjacencyGraph = CandidateGraph.from_adjacency(adjacency_file)\n",
    "nx.draw(adjacencyGraph)"
   ]
  },
  {
   "cell_type": "markdown",
   "metadata": {},
   "source": [
    "View the Adjacency Graph Attributes\n",
    "---------------------------------------\n",
    "* 'handle' = The GeoDataset from the image file\n",
    "* 'image'  = The NumPy array of the image data\n",
    "* 'keypoints' = The list of OpenCV Keypoints (features)\n",
    "* 'descriptors' = The list of descriptor arrays that correspond with the Keypoints"
   ]
  },
  {
   "cell_type": "code",
   "execution_count": 12,
   "metadata": {
    "collapsed": false
   },
   "outputs": [],
   "source": [
    "# Extracting image data and attribute nodes\n",
    "\n",
    "# Get the path without file name\n",
    "#basepath = os.path.dirname(adjacency_file)\n",
    "\n",
    "# Loop through the nodes (images) on the graph and fill in their attributes dictionaries.\n",
    "#adjacencyGraph.extract_features(5)\n",
    "#for node, attributes in adjacencyGraph.nodes_iter(data=True):\n",
    "    \n",
    "#    print('NODE HANDLE = ', attributes['handle'])\n",
    "    \n",
    "#    print('NODE IMAGE ARRAY = ')\n",
    "#    print(attributes['image'])\n",
    "    \n",
    "#    print('NODE KEYPOINTS = ')\n",
    "#    for kp in attributes['keypoints']:\n",
    "#        print(kp.pt)    \n",
    "\n",
    "#    print('NODE KEYPOINT DESCRIPTORS = ')\n",
    "#    print(attributes['descriptors'])\n",
    "    \n",
    "#|    print('-------------------------------------End Node Attribute-------------------------------------')"
   ]
  },
  {
   "cell_type": "markdown",
   "metadata": {},
   "source": [
    "View the KD-Tree\n",
    "----------------"
   ]
  },
  {
   "cell_type": "code",
   "execution_count": 15,
   "metadata": {
    "collapsed": false
   },
   "outputs": [],
   "source": [
    "# Apply a FLANN matcher\n",
    "#matcher = FlannMatcher()\n",
    "\n",
    "# Loop through the nodes on the graph and feature descriptors to the matcher\n",
    "#for node, attributes in adjacencyGraph.nodes_iter(data=True):\n",
    "#    matcher.add(attributes['descriptors'], key=node)\n",
    "    \n",
    "# build KD-Tree using the feature descriptors\n",
    "#matcher.train()"
   ]
  },
  {
   "cell_type": "markdown",
   "metadata": {},
   "source": [
    "TODO: KD-Tree visualization???\n",
    "see http://cgi.di.uoa.gr/~std04139/Kd_tree_Project/PythonImplementation/kdtree_visualization_2.py"
   ]
  },
  {
   "cell_type": "markdown",
   "metadata": {},
   "source": [
    "View the matches attribute of the edge\n",
    "-------------------------------------------"
   ]
  },
  {
   "cell_type": "code",
   "execution_count": 18,
   "metadata": {
    "collapsed": false
   },
   "outputs": [],
   "source": [
    "# Loop through the nodes on the graph to find all features that match at 1 neighbor\n",
    "# These matches are returned as PANDAS dataframes and added to the adjacency graph\n",
    "#for node, attributes in adjacencyGraph.nodes_iter(data=True):\n",
    "#    descriptors = attributes['descriptors']\n",
    "#matches = matcher.query(descriptors, node, k=2)\n",
    "#adjacencyGraph.add_matches(matches)"
   ]
  },
  {
   "cell_type": "code",
   "execution_count": 16,
   "metadata": {
    "collapsed": false
   },
   "outputs": [],
   "source": [
    "#for image1, image2, attributes in adjacencyGraph.edges_iter(data=True):\n",
    "#    print(attributes['matches'])\n",
    "\n",
    "# there is one edge, display matches between 2 images:"
   ]
  },
  {
   "cell_type": "code",
   "execution_count": 17,
   "metadata": {
    "collapsed": false
   },
   "outputs": [],
   "source": [
    "# TEMP\n",
    "# TO DO ADD __str__() to graph class\n",
    "#for image1, image2, attributes in adjacencyGraph.edges_iter(data=True):\n",
    "#    image_name_src = attributes['matches']['source_image'].values[0]\n",
    "#    print(adjacencyGraph.node[image_name_src]['image_name'])\n",
    "# there is one edge, display matches between 2 images:"
   ]
  },
  {
   "cell_type": "code",
   "execution_count": null,
   "metadata": {
    "collapsed": true
   },
   "outputs": [],
   "source": []
  }
 ],
 "metadata": {
  "kernelspec": {
   "display_name": "Python 3",
   "language": "python",
   "name": "python3"
  },
  "language_info": {
   "codemirror_mode": {
    "name": "ipython",
    "version": 3
   },
   "file_extension": ".py",
   "mimetype": "text/x-python",
   "name": "python",
   "nbconvert_exporter": "python",
   "pygments_lexer": "ipython3",
   "version": "3.5.1"
  }
 },
 "nbformat": 4,
 "nbformat_minor": 0
}
