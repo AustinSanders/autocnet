{
 "cells": [
  {
   "cell_type": "code",
   "execution_count": 1,
   "metadata": {
    "collapsed": false
   },
   "outputs": [
    {
     "name": "stdout",
     "output_type": "stream",
     "text": [
      "Populating the interactive namespace from numpy and matplotlib\n"
     ]
    }
   ],
   "source": [
    "import os\n",
    "import sys\n",
    "sys.path.insert(0, os.path.abspath('..'))\n",
    "\n",
    "from autocnet.examples import get_path\n",
    "from autocnet.graph.network import CandidateGraph\n",
    "from autocnet.matcher.matcher import FlannMatcher\n",
    "\n",
    "from IPython.display import display\n",
    "\n",
    "%pylab qt4"
   ]
  },
  {
   "cell_type": "code",
   "execution_count": 4,
   "metadata": {
    "collapsed": false
   },
   "outputs": [],
   "source": [
    "serial_numbers = {'AS15-M-0295_SML.png': '1971-07-31T01:24:11.754',\n",
    "                               'AS15-M-0296_SML.png': '1971-07-31T01:24:36.970',\n",
    "                               'AS15-M-0297_SML.png': '1971-07-31T01:25:02.243',\n",
    "                               'AS15-M-0298_SML.png': '1971-07-31T01:25:27.457',\n",
    "                               'AS15-M-0299_SML.png': '1971-07-31T01:25:52.669',\n",
    "                               'AS15-M-0300_SML.png': '1971-07-31T01:26:17.923'}\n",
    "\n",
    "for k, v in serial_numbers.items():\n",
    "    serial_numbers[k] = 'APOLLO15/METRIC/{}'.format(v)"
   ]
  },
  {
   "cell_type": "code",
   "execution_count": 5,
   "metadata": {
    "collapsed": false
   },
   "outputs": [
    {
     "data": {
      "text/plain": [
       "<matplotlib.axes._subplots.AxesSubplot at 0x7fabc74fe630>"
      ]
     },
     "execution_count": 5,
     "metadata": {},
     "output_type": "execute_result"
    }
   ],
   "source": [
    "adjacency = get_path('two_image_adjacency.json')\n",
    "basepath = get_path('Apollo15')\n",
    "cg = CandidateGraph.from_adjacency(adjacency, basepath=basepath)\n",
    "cg.plot()"
   ]
  },
  {
   "cell_type": "code",
   "execution_count": 7,
   "metadata": {
    "collapsed": true
   },
   "outputs": [],
   "source": [
    "cg.extract_features(method='sift', extractor_parameters={\"nfeatures\":500})"
   ]
  },
  {
   "cell_type": "code",
   "execution_count": 39,
   "metadata": {
    "collapsed": true
   },
   "outputs": [],
   "source": [
    "for i, node in cg.nodes_iter(data=True):\n",
    "    node.anms(nfeatures=100)"
   ]
  },
  {
   "cell_type": "markdown",
   "metadata": {},
   "source": [
    "The even and odd figure numbers can be blinked to see pre- and post-ANMS keypoints."
   ]
  },
  {
   "cell_type": "code",
   "execution_count": 44,
   "metadata": {
    "collapsed": false
   },
   "outputs": [],
   "source": [
    "for i, node in cg.nodes_iter(data=True):\n",
    "    figure(i)\n",
    "    node.plot()\n",
    "    plt.title(node.image_name + ': Before ANMS')\n",
    "    figure(i+2)\n",
    "    node.plot(clean_keys=['anms'])\n",
    "    plt.title(node.image_name + ': After ANMS')"
   ]
  },
  {
   "cell_type": "code",
   "execution_count": null,
   "metadata": {
    "collapsed": true
   },
   "outputs": [],
   "source": []
  }
 ],
 "metadata": {
  "kernelspec": {
   "display_name": "Python 3",
   "language": "python",
   "name": "python3"
  },
  "language_info": {
   "codemirror_mode": {
    "name": "ipython",
    "version": 3
   },
   "file_extension": ".py",
   "mimetype": "text/x-python",
   "name": "python",
   "nbconvert_exporter": "python",
   "pygments_lexer": "ipython3",
   "version": "3.5.1"
  }
 },
 "nbformat": 4,
 "nbformat_minor": 0
}
