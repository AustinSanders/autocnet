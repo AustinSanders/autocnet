{
 "cells": [
  {
   "cell_type": "code",
   "execution_count": 1,
   "metadata": {
    "collapsed": false
   },
   "outputs": [
    {
     "name": "stdout",
     "output_type": "stream",
     "text": [
      "{'AS15-M-0299_SML.png': '/Users/jlaura/github/autocnet/autocnet/examples/Apollo15', 'TestBasalt_VIS_01.txt': '/Users/jlaura/github/autocnet/autocnet/examples/LIBS_TEST', 'mars_merc_wkt.svg': '/Users/jlaura/github/autocnet/autocnet/examples/Projections', 'mars_polar_wkt.svg': '/Users/jlaura/github/autocnet/autocnet/examples/Projections', 'TestBasalt_NIR_01.txt': '/Users/jlaura/github/autocnet/autocnet/examples/LIBS_TEST', 'Mars_MGS_MOLA_ClrShade_MAP2_0.0N0.0_MERC.tif': '/Users/jlaura/github/autocnet/autocnet/examples/Projections', 'lunar_lamb.svg': '/Users/jlaura/github/autocnet/autocnet/examples/Projections', 'AS15-M-0298_SML.png': '/Users/jlaura/github/autocnet/autocnet/examples/Apollo15', 'SP_2C_02_02358_S138_E3586.jpg': '/Users/jlaura/github/autocnet/autocnet/examples/SpectralProfiler', 'Lunar_LRO_LOLA_Shade_MAP2_90.0N20.0_LAMB.tif': '/Users/jlaura/github/autocnet/autocnet/examples/Projections', 'TestBasalt_spot01.jpg': '/Users/jlaura/github/autocnet/autocnet/examples/LIBS_TEST', '__init__.cpython-35.pyc': '/Users/jlaura/github/autocnet/autocnet/examples/__pycache__', 'TestSS_VIS_01.txt': '/Users/jlaura/github/autocnet/autocnet/examples/LIBS_TEST', 'lunar_lamb_wkt.svg': '/Users/jlaura/github/autocnet/autocnet/examples/Projections', 'SP_2C_02_02358_S138_E3586.spc': '/Users/jlaura/github/autocnet/autocnet/examples/SpectralProfiler', '__init__.cpython-34.pyc': '/Users/jlaura/github/autocnet/autocnet/examples/__pycache__', 'mars_merc.svg': '/Users/jlaura/github/autocnet/autocnet/examples/Projections', 'AS15-M-0297_SML.png': '/Users/jlaura/github/autocnet/autocnet/examples/Apollo15', 'adjacency.json': '/Users/jlaura/github/autocnet/autocnet/examples/Apollo15', 'TestSS_NIR_01.txt': '/Users/jlaura/github/autocnet/autocnet/examples/LIBS_TEST', 'AS15-M-0300_SML.png': '/Users/jlaura/github/autocnet/autocnet/examples/Apollo15', 'SP_2C_02_03860_S136_E3557.spc': '/Users/jlaura/github/autocnet/autocnet/examples/SpectralProfiler', 'TestSS_image01.jpg': '/Users/jlaura/github/autocnet/autocnet/examples/LIBS_TEST', 'TestBasalt_UV_01.txt': '/Users/jlaura/github/autocnet/autocnet/examples/LIBS_TEST', '.DS_Store': '/Users/jlaura/github/autocnet/autocnet/examples/SpectralProfiler', 'AS15-M-0296_SML.png': '/Users/jlaura/github/autocnet/autocnet/examples/Apollo15', 'Mars_MGS_MOLA_ClrShade_MAP2_90.0N0.0_POLA.tif': '/Users/jlaura/github/autocnet/autocnet/examples/Projections', 'mars_polar.svg': '/Users/jlaura/github/autocnet/autocnet/examples/Projections', 'AS15-M-0295_SML.png': '/Users/jlaura/github/autocnet/autocnet/examples/Apollo15', 'TestSS_spot01.jpg': '/Users/jlaura/github/autocnet/autocnet/examples/LIBS_TEST', 'TestSS_UV_01.txt': '/Users/jlaura/github/autocnet/autocnet/examples/LIBS_TEST', 'TestBasalt_image01.jpg': '/Users/jlaura/github/autocnet/autocnet/examples/LIBS_TEST', 'CL5_398645626CCS_F0030004CCAM02013P3.csv': '/Users/jlaura/github/autocnet/autocnet/examples/ChemCam'}\n",
      "Populating the interactive namespace from numpy and matplotlib\n"
     ]
    }
   ],
   "source": [
    "import os\n",
    "import sys\n",
    "sys.path.insert(0, '/Users/jlaura/github/autocnet')\n",
    "from autocnet.graph import network\n",
    "from autocnet.examples import get_path, available\n",
    "from autocnet.fileio import io_gdal\n",
    "\n",
    "%pylab inline"
   ]
  },
  {
   "cell_type": "markdown",
   "metadata": {},
   "source": [
    "## Build the graph (This happens in the graph module)"
   ]
  },
  {
   "cell_type": "code",
   "execution_count": 2,
   "metadata": {
    "collapsed": false
   },
   "outputs": [],
   "source": [
    "G = network.CandidateGraph()\n",
    "#Get a list of the available sample data\n",
    "images = []\n",
    "for fi in available('Apollo15'):\n",
    "    d = get_path(fi)\n",
    "    if '.json' in d:\n",
    "        continue\n",
    "    geods = io_gdal.GeoDataSet(get_path(fi))\n",
    "    G.add_image(os.path.basename(geods.filename), geodataset=geods)\n",
    "   \n",
    "\n",
    "adjacency = {'AS15-M-0295_SML.png': [],\n",
    " 'AS15-M-0296_SML.png':['AS15-M-0297_SML.png', 'AS15-M-0298_SML.png', 'AS15-M-0299_SML.png'],\n",
    " 'AS15-M-0297_SML.png':['AS15-M-0296_SML.png', 'AS15-M-0298_SML.png', 'AS15-M-0299_SML.png', 'AS15-M-0300_SML.png'],\n",
    " 'AS15-M-0298_SML.png':['AS15-M-0296_SML.png', 'AS15-M-0297_SML.png', 'AS15-M-0299_SML.png', 'AS15-M-0300_SML.png'],\n",
    " 'AS15-M-0299_SML.png':['AS15-M-0296_SML.png', 'AS15-M-0297_SML.png', 'AS15-M-0298_SML.png', 'AS15-M-0300_SML.png'],\n",
    " 'AS15-M-0300_SML.png':['AS15-M-0297_SML.png', 'AS15-M-0298_SML.png', 'AS15-M-0299_SML.png']}\n",
    "\n",
    "#Add single edges to the graph\n",
    "basename = 'AS15-M-0{}_SML.png'\n",
    "for k,v in adjacency.items():\n",
    "    for i in v:\n",
    "        G.add_edge(k,i)"
   ]
  },
  {
   "cell_type": "code",
   "execution_count": 3,
   "metadata": {
    "collapsed": false
   },
   "outputs": [
    {
     "name": "stderr",
     "output_type": "stream",
     "text": [
      "/Users/jlaura/anaconda3/envs/autocnet/lib/python3.5/site-packages/matplotlib/collections.py:650: FutureWarning: elementwise comparison failed; returning scalar instead, but in the future will perform elementwise comparison\n",
      "  if self._edgecolors_original != str('face'):\n",
      "/Users/jlaura/anaconda3/envs/autocnet/lib/python3.5/site-packages/matplotlib/collections.py:590: FutureWarning: elementwise comparison failed; returning scalar instead, but in the future will perform elementwise comparison\n",
      "  if self._edgecolors == str('face'):\n"
     ]
    },
    {
     "data": {
      "image/png": "[encoded data removed]",
      "text/plain": [
       "<matplotlib.figure.Figure at 0x1064abe80>"
      ]
     },
     "metadata": {},
     "output_type": "display_data"
    }
   ],
   "source": [
    "import networkx as nx #Only used to draw\n",
    "\n",
    "nx.draw(G)\n",
    "show()"
   ]
  },
  {
   "cell_type": "markdown",
   "metadata": {},
   "source": [
    "## On to the matching"
   ]
  },
  {
   "cell_type": "code",
   "execution_count": 4,
   "metadata": {
    "collapsed": false
   },
   "outputs": [],
   "source": [
    "import cv2\n",
    "from scipy.misc import bytescale"
   ]
  },
  {
   "cell_type": "code",
   "execution_count": 5,
   "metadata": {
    "collapsed": false
   },
   "outputs": [],
   "source": [
    "#Create the sift detector\n",
    "sift = cv2.xfeatures2d.SIFT_create(10)"
   ]
  },
  {
   "cell_type": "code",
   "execution_count": 6,
   "metadata": {
    "collapsed": true
   },
   "outputs": [],
   "source": [
    "#We do not know which pairs might be good, so we need to process all of them.\n",
    "#This computes for node with incidence 0...\n",
    "for name, attributes in G.nodes_iter(data=True): #Returns a tuple\n",
    "    geods = attributes['geodataset']\n",
    "    #Get the first band of the array and add that data to the attributes\n",
    "    image_array = bytescale(geods.readarray()) #OpenCV requires that the data be byte scaled...\n",
    "    attributes['original_image'] = image_array\n",
    "    keypoints, descriptors = sift.detectAndCompute(image_array, None)\n",
    "    attributes['keypoints'] = keypoints\n",
    "    attributes['descriptors'] = descriptors"
   ]
  },
  {
   "cell_type": "markdown",
   "metadata": {},
   "source": [
    "## FLANN Matching\n",
    "\n",
    "The idea here is to 'punch through' as many images as possible in a single go.  Basically, take a given image to be the query image, populate a KD-tree with all descriptors in neighbor images and perform the match. \n",
    "\n",
    "This will yield $n * k$ matches, where $n$ is the number of descriptors and $k$ is the user defined KNN parameter.\n",
    "\n",
    "To use Lowe's ratio test, two matches per image are required, where a 'good match' is $i.distance < j.distance * 0.8$.  This requires $k >= node.incidence * 2$\n",
    "\n",
    "To punch through, book keeping is going to be key.  The example below for three images illustrates how multiple images can be tied.  This is going to be a book keeping / efficiency issue.  By way of example:\n",
    "\n",
    "296:\n",
    "  * AS15-M-0297_SML.png 3 3 84.7584838867\n",
    "  * AS15-M-0298_SML.png 3 6 133.540252686\n",
    "\n",
    "297:\n",
    "  * AS15-M-0296_SML.png 3 3 84.7584838867\n",
    "  * AS15-M-0298_SML.png 3 6 90.1165924072\n",
    "\n",
    "298:\n",
    "  * AS15-M-0297_SML.png 6 3 90.1165924072\n",
    "  * AS15-M-0296_SML.png 6 3 133.540252686\n",
    "\n",
    "This is the same point, 'punched' through three images.\n",
    "\n",
    "* How can this best be represented?\n",
    "  * I need to know:\n",
    "      * From Image\n",
    "      * To Image\n",
    "      * From Image Point ID\n",
    "      * To Image Point ID\n",
    "      * Distance\n",
    "      \n",
    "This is really the control network - in a raw, unfiltered form.  How best can a control network be represented...\n",
    "* Assuming a brute force approach to generate this, what is the logic needed to extract this into a control network?"
   ]
  },
  {
   "cell_type": "code",
   "execution_count": 8,
   "metadata": {
    "collapsed": false
   },
   "outputs": [
    {
     "name": "stdout",
     "output_type": "stream",
     "text": [
      "AS15-M-0297_SML.png 0 6 85.21736907958984\n",
      "AS15-M-0298_SML.png 0 2 253.1975555419922\n",
      "AS15-M-0298_SML.png 1 3 188.6478271484375\n",
      "AS15-M-0297_SML.png 1 2 192.2784423828125\n",
      "AS15-M-0299_SML.png 2 2 280.5405578613281\n",
      "AS15-M-0297_SML.png 2 9 281.6096496582031\n",
      "AS15-M-0298_SML.png 2 5 283.8714599609375\n",
      "AS15-M-0297_SML.png 3 3 84.75848388671875\n",
      "AS15-M-0298_SML.png 3 6 133.54025268554688\n",
      "AS15-M-0297_SML.png 4 7 122.64175415039062\n",
      "AS15-M-0298_SML.png 4 4 144.97586059570312\n",
      "AS15-M-0298_SML.png 5 1 126.23786926269531\n",
      "AS15-M-0297_SML.png 5 1 147.4788055419922\n",
      "AS15-M-0297_SML.png 6 0 50.22947311401367\n",
      "AS15-M-0298_SML.png 6 7 220.3474578857422\n",
      "AS15-M-0298_SML.png 7 5 240.1853485107422\n",
      "AS15-M-0297_SML.png 7 2 241.24053955078125\n",
      "AS15-M-0299_SML.png 7 4 242.22509765625\n",
      "AS15-M-0298_SML.png 8 5 182.67730712890625\n",
      "AS15-M-0297_SML.png 8 2 201.5812530517578\n",
      "AS15-M-0298_SML.png 9 1 150.5523223876953\n",
      "AS15-M-0299_SML.png 9 1 162.28062438964844\n",
      "AS15-M-0296_SML.png 0 6 50.22947311401367\n",
      "AS15-M-0298_SML.png 0 3 219.86814880371094\n",
      "AS15-M-0298_SML.png 1 8 102.72293090820312\n",
      "AS15-M-0296_SML.png 1 5 147.4788055419922\n",
      "AS15-M-0299_SML.png 1 2 176.5672607421875\n",
      "AS15-M-0298_SML.png 2 3 64.52131652832031\n",
      "AS15-M-0299_SML.png 2 2 113.6309814453125\n",
      "AS15-M-0296_SML.png 3 3 84.75848388671875\n",
      "AS15-M-0298_SML.png 3 6 90.11659240722656\n",
      "AS15-M-0299_SML.png 3 1 263.8825378417969\n",
      "AS15-M-0296_SML.png 4 6 230.3193359375\n",
      "AS15-M-0298_SML.png 4 2 239.3950653076172\n",
      "AS15-M-0299_SML.png 4 4 249.83795166015625\n",
      "AS15-M-0298_SML.png 5 0 66.67832946777344\n",
      "AS15-M-0296_SML.png 5 8 212.7721710205078\n",
      "AS15-M-0296_SML.png 6 0 85.21736907958984\n",
      "AS15-M-0299_SML.png 6 2 238.81373596191406\n",
      "AS15-M-0298_SML.png 7 4 65.55150604248047\n",
      "AS15-M-0296_SML.png 7 4 122.64175415039062\n",
      "AS15-M-0299_SML.png 8 9 158.918212890625\n",
      "AS15-M-0296_SML.png 8 5 217.3407440185547\n",
      "AS15-M-0300_SML.png 8 8 217.99771118164062\n",
      "AS15-M-0298_SML.png 9 8 217.96099853515625\n",
      "AS15-M-0296_SML.png 9 8 223.56207275390625\n",
      "AS15-M-0299_SML.png 9 1 225.2642822265625\n",
      "AS15-M-0297_SML.png 0 5 66.67832946777344\n",
      "AS15-M-0296_SML.png 0 8 220.15902709960938\n",
      "AS15-M-0300_SML.png 0 8 245.98170471191406\n",
      "AS15-M-0299_SML.png 1 3 101.85283660888672\n",
      "AS15-M-0296_SML.png 1 5 126.23786926269531\n",
      "AS15-M-0299_SML.png 2 4 68.13956451416016\n",
      "AS15-M-0297_SML.png 2 2 168.9585723876953\n",
      "AS15-M-0296_SML.png 2 5 196.30332946777344\n",
      "AS15-M-0297_SML.png 3 2 64.52131652832031\n",
      "AS15-M-0299_SML.png 3 2 88.93255615234375\n",
      "AS15-M-0296_SML.png 3 5 154.20440673828125\n",
      "AS15-M-0297_SML.png 4 7 65.55150604248047\n",
      "AS15-M-0296_SML.png 4 4 144.97586059570312\n",
      "AS15-M-0299_SML.png 4 1 230.90257263183594\n",
      "AS15-M-0296_SML.png 5 9 157.58172607421875\n",
      "AS15-M-0299_SML.png 5 4 159.31729125976562\n",
      "AS15-M-0297_SML.png 6 3 90.11659240722656\n",
      "AS15-M-0296_SML.png 6 3 133.54025268554688\n",
      "AS15-M-0299_SML.png 6 1 248.76695251464844\n",
      "AS15-M-0299_SML.png 7 0 111.87493133544922\n",
      "AS15-M-0297_SML.png 7 2 196.31861877441406\n",
      "AS15-M-0296_SML.png 7 6 220.3474578857422\n",
      "AS15-M-0297_SML.png 8 1 102.72293090820312\n",
      "AS15-M-0296_SML.png 8 5 141.0531768798828\n",
      "AS15-M-0299_SML.png 8 2 175.40809631347656\n",
      "AS15-M-0299_SML.png 9 3 152.22023010253906\n",
      "AS15-M-0296_SML.png 9 9 163.77728271484375\n",
      "AS15-M-0300_SML.png 9 5 180.18324279785156\n"
     ]
    }
   ],
   "source": [
    "#This approach generates a new KD-Tree for each node.  What about just using one KD-Tree?\n",
    "FLANN_INDEX_KDTREE = 1\n",
    "flann_params = dict(algorithm=FLANN_INDEX_KDTREE, trees=5)\n",
    "fl = cv2.FlannBasedMatcher(flann_params, {})\n",
    "\n",
    "for node in ['AS15-M-0296_SML.png','AS15-M-0297_SML.png', 'AS15-M-0298_SML.png']:\n",
    "    attributes = G.node[node]\n",
    "    k = len(G.edges(node))\n",
    "    #k = len(G.edges(node)) * 2 #To support ratio test\n",
    "    query_descriptor = attributes['descriptors']\n",
    "    training_descriptors = []\n",
    "\n",
    "    image_lookup = {}\n",
    "    for i, n in enumerate(nx.neighbors(G, node)):\n",
    "        image_lookup[i] = n\n",
    "        training_descriptors.append(G.node[n]['descriptors'])\n",
    "    \n",
    "    fl.add(training_descriptors)\n",
    "    fl.train()\n",
    "    \n",
    "    matches = fl.knnMatch(query_descriptor, k=k)\n",
    "    clipped_matches = []\n",
    "    for m_list in matches:\n",
    "        clipped_m = []\n",
    "        visited = set()\n",
    "        for m in m_list:\n",
    "            if not m.imgIdx in visited:\n",
    "                visited.add(m.imgIdx)\n",
    "                clipped_m.append(m)\n",
    "        clipped_matches.append(clipped_m)\n",
    "\n",
    "    for c in clipped_matches:\n",
    "        for i in c:\n",
    "                print(image_lookup[i.imgIdx], i.queryIdx, i.trainIdx, i.distance)\n",
    "        \n",
    "    fl.clear()\n",
    "    print"
   ]
  },
  {
   "cell_type": "markdown",
   "metadata": {},
   "source": [
    "### Performance\n",
    "The training descriptors are packed into a list using append.  This is inefficient.  If the number of descriptors per image is capped, what about storing an ndarray for efficiency?  Something down the road."
   ]
  },
  {
   "cell_type": "code",
   "execution_count": 10,
   "metadata": {
    "collapsed": false
   },
   "outputs": [
    {
     "name": "stdout",
     "output_type": "stream",
     "text": [
      "AS15-M-0297_SML.png 0 6 85.21736907958984\n",
      "AS15-M-0295_SML.png 0 4 221.3662109375\n",
      "AS15-M-0296_SML.png 0 9 239.9791717529297\n",
      "AS15-M-0298_SML.png 1 3 188.6478271484375\n",
      "AS15-M-0297_SML.png 1 2 192.2784423828125\n",
      "AS15-M-0300_SML.png 2 2 280.8309020996094\n",
      "AS15-M-0297_SML.png 2 9 281.6096496582031\n",
      "AS15-M-0296_SML.png 2 9 284.9578857421875\n",
      "AS15-M-0297_SML.png 3 3 84.75848388671875\n",
      "AS15-M-0295_SML.png 3 8 116.02155303955078\n",
      "AS15-M-0298_SML.png 3 6 133.54025268554688\n",
      "AS15-M-0297_SML.png 4 7 122.64175415039062\n",
      "AS15-M-0298_SML.png 4 4 144.97586059570312\n",
      "AS15-M-0295_SML.png 5 0 77.45966339111328\n",
      "AS15-M-0298_SML.png 5 1 126.23786926269531\n",
      "AS15-M-0297_SML.png 6 0 50.22947311401367\n",
      "AS15-M-0295_SML.png 6 4 87.24104309082031\n",
      "AS15-M-0296_SML.png 6 0 217.9265899658203\n",
      "AS15-M-0296_SML.png 7 1 222.2746124267578\n",
      "AS15-M-0299_SML.png 7 4 242.22509765625\n",
      "AS15-M-0295_SML.png 7 2 242.757080078125\n",
      "AS15-M-0300_SML.png 8 8 177.20327758789062\n",
      "AS15-M-0298_SML.png 8 5 182.67730712890625\n",
      "AS15-M-0296_SML.png 8 9 187.74183654785156\n",
      "AS15-M-0298_SML.png 9 1 150.5523223876953\n",
      "AS15-M-0299_SML.png 9 1 162.28062438964844\n",
      "\n",
      "AS15-M-0296_SML.png 0 6 50.22947311401367\n",
      "AS15-M-0295_SML.png 0 4 122.18019104003906\n",
      "AS15-M-0297_SML.png 0 2 212.5582275390625\n",
      "AS15-M-0298_SML.png 1 8 102.72293090820312\n",
      "AS15-M-0296_SML.png 1 5 147.4788055419922\n",
      "AS15-M-0297_SML.png 1 2 164.4506072998047\n",
      "AS15-M-0298_SML.png 2 3 64.52131652832031\n",
      "AS15-M-0299_SML.png 2 2 113.6309814453125\n",
      "AS15-M-0297_SML.png 2 1 164.4506072998047\n",
      "AS15-M-0296_SML.png 3 3 84.75848388671875\n",
      "AS15-M-0298_SML.png 3 6 90.11659240722656\n",
      "AS15-M-0295_SML.png 3 8 156.40013122558594\n",
      "AS15-M-0297_SML.png 3 1 253.18174743652344\n",
      "AS15-M-0297_SML.png 4 0 230.74661254882812\n",
      "AS15-M-0295_SML.png 4 4 230.94154357910156\n",
      "AS15-M-0298_SML.png 4 2 239.3950653076172\n",
      "AS15-M-0299_SML.png 4 4 249.83795166015625\n",
      "AS15-M-0298_SML.png 5 0 66.67832946777344\n",
      "AS15-M-0296_SML.png 5 8 212.7721710205078\n",
      "AS15-M-0297_SML.png 5 7 228.5716552734375\n",
      "AS15-M-0296_SML.png 6 0 85.21736907958984\n",
      "AS15-M-0297_SML.png 6 0 221.72731018066406\n",
      "AS15-M-0295_SML.png 6 4 238.07351684570312\n",
      "AS15-M-0298_SML.png 7 4 65.55150604248047\n",
      "AS15-M-0296_SML.png 7 4 122.64175415039062\n",
      "AS15-M-0299_SML.png 8 9 158.918212890625\n",
      "AS15-M-0300_SML.png 8 8 217.99771118164062\n",
      "AS15-M-0296_SML.png 8 8 223.17706298828125\n",
      "AS15-M-0297_SML.png 9 1 216.963134765625\n",
      "AS15-M-0298_SML.png 9 8 217.96099853515625\n",
      "AS15-M-0296_SML.png 9 8 223.56207275390625\n",
      "\n",
      "AS15-M-0297_SML.png 0 5 66.67832946777344\n",
      "AS15-M-0296_SML.png 0 8 220.15902709960938\n",
      "AS15-M-0298_SML.png 0 5 228.82525634765625\n",
      "AS15-M-0300_SML.png 0 8 245.98170471191406\n",
      "AS15-M-0299_SML.png 1 3 101.85283660888672\n",
      "AS15-M-0296_SML.png 1 5 126.23786926269531\n",
      "AS15-M-0299_SML.png 2 4 68.13956451416016\n",
      "AS15-M-0298_SML.png 2 3 166.42715454101562\n",
      "AS15-M-0297_SML.png 2 2 168.9585723876953\n",
      "AS15-M-0297_SML.png 3 2 64.52131652832031\n",
      "AS15-M-0299_SML.png 3 2 88.93255615234375\n",
      "AS15-M-0298_SML.png 3 5 136.09922790527344\n",
      "AS15-M-0297_SML.png 4 7 65.55150604248047\n",
      "AS15-M-0296_SML.png 4 4 144.97586059570312\n",
      "AS15-M-0298_SML.png 4 9 209.66163635253906\n",
      "AS15-M-0298_SML.png 5 3 136.09922790527344\n",
      "AS15-M-0296_SML.png 5 9 157.58172607421875\n",
      "AS15-M-0297_SML.png 6 3 90.11659240722656\n",
      "AS15-M-0296_SML.png 6 3 133.54025268554688\n",
      "AS15-M-0295_SML.png 6 8 195.24343872070312\n",
      "AS15-M-0298_SML.png 6 8 244.88365173339844\n",
      "AS15-M-0299_SML.png 7 0 111.87493133544922\n",
      "AS15-M-0297_SML.png 7 2 196.31861877441406\n",
      "AS15-M-0298_SML.png 7 3 203.4993896484375\n",
      "AS15-M-0297_SML.png 8 1 102.72293090820312\n",
      "AS15-M-0298_SML.png 8 3 144.972412109375\n",
      "AS15-M-0298_SML.png 9 5 148.83883666992188\n",
      "AS15-M-0299_SML.png 9 3 152.22023010253906\n",
      "\n"
     ]
    }
   ],
   "source": [
    "#This example builds a single KD-Tree and then removes self-neighbors\n",
    "FLANN_INDEX_KDTREE = 1\n",
    "flann_params = dict(algorithm=FLANN_INDEX_KDTREE, trees=5)\n",
    "fl = cv2.FlannBasedMatcher(flann_params, {})\n",
    "\n",
    "\n",
    "training_descriptors = []\n",
    "image_lookup = {}\n",
    "#Build a single KD-Tree\n",
    "for i, n in enumerate(G.nodes()):\n",
    "    training_descriptors.append(G.node[n]['descriptors'])\n",
    "    image_lookup[i] = n\n",
    "\n",
    "fl.add(training_descriptors)\n",
    "fl.train()\n",
    "\n",
    "for node in ['AS15-M-0296_SML.png','AS15-M-0297_SML.png', 'AS15-M-0298_SML.png']:\n",
    "    k = len(G.edges(node)) + 1  #+1 becuase we know a self neighbor will exist.\n",
    "    query_descriptor = G.node[node]['descriptors']\n",
    "    \n",
    "    matches = fl.knnMatch(query_descriptor, k=k)\n",
    "    clipped_matches = []\n",
    "    for m_list in matches:\n",
    "        clipped_m = []\n",
    "        visited = set()\n",
    "        for m in m_list:\n",
    "            if not m.imgIdx in visited and m.distance != 0:\n",
    "                visited.add(m.imgIdx)\n",
    "                clipped_m.append(m)\n",
    "        clipped_matches.append(clipped_m)\n",
    "\n",
    "    for c in clipped_matches:\n",
    "        for i in c:\n",
    "                print(image_lookup[i.imgIdx], i.queryIdx, i.trainIdx, i.distance)\n",
    "    print()"
   ]
  },
  {
   "cell_type": "code",
   "execution_count": null,
   "metadata": {
    "collapsed": true
   },
   "outputs": [],
   "source": []
  }
 ],
 "metadata": {
  "kernelspec": {
   "display_name": "Python 3",
   "language": "python",
   "name": "python3"
  },
  "language_info": {
   "codemirror_mode": {
    "name": "ipython",
    "version": 3
   },
   "file_extension": ".py",
   "mimetype": "text/x-python",
   "name": "python",
   "nbconvert_exporter": "python",
   "pygments_lexer": "ipython3",
   "version": "3.5.1"
  }
 },
 "nbformat": 4,
 "nbformat_minor": 0
}
