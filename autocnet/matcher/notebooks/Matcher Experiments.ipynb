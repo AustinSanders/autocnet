{
 "cells": [
  {
   "cell_type": "code",
   "execution_count": 1,
   "metadata": {},
   "outputs": [
    {
     "name": "stdout",
     "output_type": "stream",
     "text": [
      "Populating the interactive namespace from numpy and matplotlib\n"
     ]
    }
   ],
   "source": [
    "import os\n",
    "from autocnet.graph import network\n",
    "from autocnet.examples import get_path, available\n",
    "from autocnet.fileio import io_gdal\n",
    "\n",
    "%pylab inline"
   ]
  },
  {
   "cell_type": "markdown",
   "metadata": {},
   "source": [
    "## Build the graph (This happens in the graph module)"
   ]
  },
  {
   "cell_type": "code",
   "execution_count": 2,
   "metadata": {},
   "outputs": [],
   "source": [
    "G = network.CandidateGraph()\n",
    "#Get a list of the available sample data\n",
    "images = []\n",
    "for fi in available('Apollo15'):\n",
    "    d = get_path(fi)\n",
    "    if '.json' in d:\n",
    "        continue\n",
    "    geods = io_gdal.GeoDataSet(get_path(fi))\n",
    "    G.add_image(os.path.basename(geods.filename), geodataset=geods)\n",
    "   \n",
    "\n",
    "adjacency = {'AS15-M-0295_SML.png': [],\n",
    " 'AS15-M-0296_SML.png':['AS15-M-0297_SML.png', 'AS15-M-0298_SML.png', 'AS15-M-0299_SML.png'],\n",
    " 'AS15-M-0297_SML.png':['AS15-M-0296_SML.png', 'AS15-M-0298_SML.png', 'AS15-M-0299_SML.png', 'AS15-M-0300_SML.png'],\n",
    " 'AS15-M-0298_SML.png':['AS15-M-0296_SML.png', 'AS15-M-0297_SML.png', 'AS15-M-0299_SML.png', 'AS15-M-0300_SML.png'],\n",
    " 'AS15-M-0299_SML.png':['AS15-M-0296_SML.png', 'AS15-M-0297_SML.png', 'AS15-M-0298_SML.png', 'AS15-M-0300_SML.png'],\n",
    " 'AS15-M-0300_SML.png':['AS15-M-0297_SML.png', 'AS15-M-0298_SML.png', 'AS15-M-0299_SML.png']}\n",
    "\n",
    "#Add single edges to the graph\n",
    "basename = 'AS15-M-0{}_SML.png'\n",
    "for k,v in adjacency.iteritems():\n",
    "    for i in v:\n",
    "        G.add_edge(k,i)"
   ]
  },
  {
   "cell_type": "code",
   "execution_count": 3,
   "metadata": {},
   "outputs": [
    {
     "name": "stderr",
     "output_type": "stream",
     "text": [
      "/Users/jlaura/anaconda/lib/python2.7/site-packages/matplotlib/collections.py:590: FutureWarning: elementwise comparison failed; returning scalar instead, but in the future will perform elementwise comparison\n  if self._edgecolors == str('face'):\n"
     ]
    },
    {
     "data": {
      "image/png": "[encoded data removed]"
     },
     "output_type": "display_data",
     "text": [
      "<matplotlib.figure.Figure at 0x107616510>"
     ],
     "metadata": {}
    }
   ],
   "source": [
    "import networkx as nx #Only used to draw\n",
    "\n",
    "nx.draw(G)\n",
    "show()"
   ]
  },
  {
   "cell_type": "markdown",
   "metadata": {},
   "source": [
    "## On to the matching"
   ]
  },
  {
   "cell_type": "code",
   "execution_count": 4,
   "metadata": {},
   "outputs": [],
   "source": [
    "import cv2\n",
    "from scipy.misc import bytescale"
   ]
  },
  {
   "cell_type": "code",
   "execution_count": 5,
   "metadata": {},
   "outputs": [],
   "source": [
    "#Create the sift detector\n",
    "sift = cv2.xfeatures2d.SIFT_create(10)"
   ]
  },
  {
   "cell_type": "code",
   "execution_count": 14,
   "metadata": {},
   "outputs": [],
   "source": [
    "#We do not know which pairs might be good, so we need to process all of them.\n",
    "#This computes for node with incidence 0...\n",
    "for name, attributes in G.nodes_iter(data=True): #Returns a tuple\n",
    "    geods = attributes['geodataset']\n",
    "    #Get the first band of the array and add that data to the attributes\n",
    "    image_array = bytescale(geods.readarray()) #OpenCV requires that the data be byte scaled...\n",
    "    attributes['original_image'] = image_array\n",
    "    keypoints, descriptors = sift.detectAndCompute(image_array, None)\n",
    "    attributes['keypoints'] = keypoints\n",
    "    attributes['descriptors'] = descriptors"
   ]
  },
  {
   "cell_type": "markdown",
   "metadata": {},
   "source": [
    "## FLANN Matching\n",
    "\n",
    "The idea here is to 'punch through' as many images as possible in a single go.  Basically, take a given image to be the query image, populate a KD-tree with all descriptors in neighbor images and perform the match. \n",
    "\n",
    "This will yield $n * k$ matches, where $n$ is the number of descriptors and $k$ is the user defined KNN parameter.\n",
    "\n",
    "To use Lowe's ratio test, two matches per image are required, where a 'good match' is $i.distance < j.distance * 0.8$.  This requires $k >= node.incidence * 2$\n",
    "\n",
    "To punch through, book keeping is going to be key.  The example below for three images illustrates how multiple images can be tied.  This is going to be a book keeping / efficiency issue.  By way of example:\n",
    "\n",
    "296:\n",
    "  * AS15-M-0297_SML.png 3 3 84.7584838867\n",
    "  * AS15-M-0298_SML.png 3 6 133.540252686\n",
    "\n",
    "297:\n",
    "  * AS15-M-0296_SML.png 3 3 84.7584838867\n",
    "  * AS15-M-0298_SML.png 3 6 90.1165924072\n",
    "\n",
    "298:\n",
    "  * AS15-M-0297_SML.png 6 3 90.1165924072\n",
    "  * AS15-M-0296_SML.png 6 3 133.540252686\n",
    "\n",
    "This is the same point, 'punched' through three images.\n",
    "\n",
    "* How can this best be represented?\n",
    "  * I need to know:\n",
    "      * From Image\n",
    "      * To Image\n",
    "      * From Image Point ID\n",
    "      * To Image Point ID\n",
    "      * Distance\n",
    "      \n",
    "This is really the control network - in a raw, unfiltered form.  How best can a control network be represented...\n",
    "* Assuming a brute force approach to generate this, what is the logic needed to extract this into a control network?"
   ]
  },
  {
   "cell_type": "code",
   "execution_count": null,
   "metadata": {},
   "outputs": [],
   "source": [
    "#This approach generates a new KD-Tree for each node.  What about just using one KD-Tree?\n",
    "FLANN_INDEX_KDTREE = 1\n",
    "flann_params = dict(algorithm=FLANN_INDEX_KDTREE, trees=5)\n",
    "fl = cv2.FlannBasedMatcher(flann_params, {})\n",
    "\n",
    "for node in ['AS15-M-0296_SML.png','AS15-M-0297_SML.png', 'AS15-M-0298_SML.png']:\n",
    "    attributes = G.node[node]\n",
    "    k = len(G.edges(node))\n",
    "    #k = len(G.edges(node)) * 2 #To support ratio test\n",
    "    query_descriptor = attributes['descriptors']\n",
    "    training_descriptors = []\n",
    "\n",
    "    image_lookup = {}\n",
    "    for i, n in enumerate(nx.neighbors(G, node)):\n",
    "        image_lookup[i] = n\n",
    "        training_descriptors.append(G.node[n]['descriptors'])\n",
    "    \n",
    "    fl.add(training_descriptors)\n",
    "    fl.train()\n",
    "    \n",
    "    matches = fl.knnMatch(query_descriptor, k=k)\n",
    "    clipped_matches = []\n",
    "    for m_list in matches:\n",
    "        clipped_m = []\n",
    "        visited = set()\n",
    "        for m in m_list:\n",
    "            if not m.imgIdx in visited:\n",
    "                visited.add(m.imgIdx)\n",
    "                clipped_m.append(m)\n",
    "        clipped_matches.append(clipped_m)\n",
    "\n",
    "    for c in clipped_matches:\n",
    "        for i in c:\n",
    "                print image_lookup[i.imgIdx], i.queryIdx, i.trainIdx, i.distance\n",
    "        \n",
    "    fl.clear()\n",
    "    print"
   ]
  },
  {
   "cell_type": "markdown",
   "metadata": {},
   "source": [
    "### Performance\n",
    "The training descriptors are packed into a list using append.  This is inefficient.  If the number of descriptors per image is capped, what about storing an ndarray for efficiency?  Something down the road."
   ]
  },
  {
   "cell_type": "code",
   "execution_count": 19,
   "metadata": {},
   "outputs": [
    {
     "name": "stdout",
     "output_type": "stream",
     "text": [
      "AS15-M-0297_SML.png 0 6 85.2173690796\n",
      "AS15-M-0295_SML.png 0 4 221.366210938\n",
      "AS15-M-0299_SML.png 0 4 253.791259766\n",
      "AS15-M-0298_SML.png 1 3 188.647827148\n",
      "AS15-M-0297_SML.png 1 2 192.278442383\n",
      "AS15-M-0299_SML.png 2 2 280.540557861\n",
      "AS15-M-0297_SML.png 2 9 281.609649658\n",
      "AS15-M-0298_SML.png 2 5 283.871459961\n",
      "AS15-M-0297_SML.png 3 3 84.7584838867\n",
      "AS15-M-0295_SML.png 3 8 116.02155304\n",
      "AS15-M-0298_SML.png 3 6 133.540252686\n",
      "AS15-M-0297_SML.png 4 7 122.64175415\n",
      "AS15-M-0298_SML.png 4 4 144.975860596\n",
      "AS15-M-0295_SML.png 5 0 77.4596633911\n",
      "AS15-M-0298_SML.png 5 1 126.237869263\n",
      "AS15-M-0297_SML.png 6 0 50.229473114\n",
      "AS15-M-0295_SML.png 6 4 87.2410430908\n",
      "AS15-M-0296_SML.png 6 0 217.926589966\n",
      "AS15-M-0296_SML.png 7 1 222.274612427\n",
      "AS15-M-0298_SML.png 7 5 240.185348511\n",
      "AS15-M-0297_SML.png 7 2 241.240539551\n",
      "AS15-M-0300_SML.png 8 8 177.203277588\n",
      "AS15-M-0298_SML.png 8 5 182.677307129\n",
      "AS15-M-0296_SML.png 8 9 187.741836548\n",
      "AS15-M-0298_SML.png 9 1 150.552322388\n",
      "AS15-M-0299_SML.png 9 1 162.28062439\n",
      "\n",
      "AS15-M-0296_SML.png 0 6 50.229473114\n",
      "AS15-M-0295_SML.png 0 4 122.18019104\n",
      "AS15-M-0297_SML.png 0 2 212.558227539\n",
      "AS15-M-0298_SML.png 1 8 102.722930908\n",
      "AS15-M-0296_SML.png 1 5 147.478805542\n",
      "AS15-M-0297_SML.png 1 2 164.4506073\n",
      "AS15-M-0298_SML.png 2 3 64.5213165283\n",
      "AS15-M-0299_SML.png 2 2 113.630981445\n",
      "AS15-M-0297_SML.png 2 1 164.4506073\n",
      "AS15-M-0296_SML.png 3 3 84.7584838867\n",
      "AS15-M-0298_SML.png 3 6 90.1165924072\n",
      "AS15-M-0295_SML.png 3 8 156.400131226\n",
      "AS15-M-0296_SML.png 4 6 230.319335938\n",
      "AS15-M-0297_SML.png 4 0 230.746612549\n",
      "AS15-M-0295_SML.png 4 4 230.941543579\n",
      "AS15-M-0298_SML.png 4 2 239.395065308\n",
      "AS15-M-0298_SML.png 5 0 66.6783294678\n",
      "AS15-M-0296_SML.png 5 8 212.772171021\n",
      "AS15-M-0297_SML.png 5 7 228.571655273\n",
      "AS15-M-0296_SML.png 6 0 85.2173690796\n",
      "AS15-M-0295_SML.png 6 4 238.073516846\n",
      "AS15-M-0299_SML.png 6 4 242.606674194\n",
      "AS15-M-0298_SML.png 6 5 243.741668701\n",
      "AS15-M-0298_SML.png 7 4 65.5515060425\n",
      "AS15-M-0296_SML.png 7 4 122.64175415\n",
      "AS15-M-0299_SML.png 8 9 158.918212891\n",
      "AS15-M-0300_SML.png 8 8 217.997711182\n",
      "AS15-M-0296_SML.png 8 8 223.177062988\n",
      "AS15-M-0296_SML.png 9 1 222.319595337\n",
      "AS15-M-0299_SML.png 9 1 225.264282227\n",
      "AS15-M-0298_SML.png 9 5 226.042037964\n",
      "\n",
      "AS15-M-0297_SML.png 0 5 66.6783294678\n",
      "AS15-M-0296_SML.png 0 8 220.1590271\n",
      "AS15-M-0298_SML.png 0 5 228.825256348\n",
      "AS15-M-0300_SML.png 0 8 245.981704712\n",
      "AS15-M-0299_SML.png 1 3 101.852836609\n",
      "AS15-M-0296_SML.png 1 5 126.237869263\n",
      "AS15-M-0299_SML.png 2 4 68.1395645142\n",
      "AS15-M-0298_SML.png 2 3 166.427154541\n",
      "AS15-M-0297_SML.png 2 2 168.958572388\n",
      "AS15-M-0297_SML.png 3 2 64.5213165283\n",
      "AS15-M-0299_SML.png 3 2 88.9325561523\n",
      "AS15-M-0298_SML.png 3 5 136.099227905\n",
      "AS15-M-0297_SML.png 4 7 65.5515060425\n",
      "AS15-M-0296_SML.png 4 4 144.975860596\n",
      "AS15-M-0298_SML.png 4 9 209.661636353\n",
      "AS15-M-0298_SML.png 5 3 136.099227905\n",
      "AS15-M-0296_SML.png 5 9 157.581726074\n",
      "AS15-M-0297_SML.png 6 3 90.1165924072\n",
      "AS15-M-0296_SML.png 6 3 133.540252686\n",
      "AS15-M-0295_SML.png 6 8 195.243438721\n",
      "AS15-M-0298_SML.png 6 9 246.52180481\n",
      "AS15-M-0299_SML.png 7 0 111.874931335\n",
      "AS15-M-0297_SML.png 7 2 196.318618774\n",
      "AS15-M-0298_SML.png 7 3 203.499389648\n",
      "AS15-M-0297_SML.png 8 1 102.722930908\n",
      "AS15-M-0296_SML.png 8 5 141.05317688\n",
      "AS15-M-0298_SML.png 8 5 156.958587646\n",
      "AS15-M-0298_SML.png 9 5 148.83883667\n",
      "AS15-M-0299_SML.png 9 3 152.220230103\n",
      "\n"
     ]
    }
   ],
   "source": [
    "#This example builds a single KD-Tree and then removes self-neighbors\n",
    "FLANN_INDEX_KDTREE = 1\n",
    "flann_params = dict(algorithm=FLANN_INDEX_KDTREE, trees=5)\n",
    "fl = cv2.FlannBasedMatcher(flann_params, {})\n",
    "\n",
    "\n",
    "training_descriptors = []\n",
    "image_lookup = {}\n",
    "#Build a single KD-Tree\n",
    "for i, n in enumerate(G.nodes()):\n",
    "    training_descriptors.append(G.node[n]['descriptors'])\n",
    "    image_lookup[i] = n\n",
    "\n",
    "fl.add(training_descriptors)\n",
    "fl.train()\n",
    "\n",
    "for node in ['AS15-M-0296_SML.png','AS15-M-0297_SML.png', 'AS15-M-0298_SML.png']:\n",
    "    k = len(G.edges(node)) + 1  #+1 becuase we know a self neighbor will exist.\n",
    "    query_descriptor = G.node[node]['descriptors']\n",
    "    \n",
    "    matches = fl.knnMatch(query_descriptor, k=k)\n",
    "    clipped_matches = []\n",
    "    for m_list in matches:\n",
    "        clipped_m = []\n",
    "        visited = set()\n",
    "        for m in m_list:\n",
    "            if not m.imgIdx in visited and m.distance != 0:\n",
    "                visited.add(m.imgIdx)\n",
    "                clipped_m.append(m)\n",
    "        clipped_matches.append(clipped_m)\n",
    "\n",
    "    for c in clipped_matches:\n",
    "        for i in c:\n",
    "                print image_lookup[i.imgIdx], i.queryIdx, i.trainIdx, i.distance        \n",
    "    print"
   ]
  }
 ],
 "metadata": {
  "kernelspec": {
   "display_name": "Python 2",
   "language": "python",
   "name": "python2"
  },
  "language_info": {
   "codemirror_mode": {
    "name": "ipython",
    "version": 2.0
   },
   "file_extension": ".py",
   "mimetype": "text/x-python",
   "name": "python",
   "nbconvert_exporter": "python",
   "pygments_lexer": "ipython2",
   "version": "2.7.10"
  }
 },
 "nbformat": 4,
 "nbformat_minor": 0
}