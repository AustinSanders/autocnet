{
 "cells": [
  {
   "cell_type": "code",
   "execution_count": 1,
   "metadata": {
    "collapsed": false
   },
   "outputs": [],
   "source": [
    "from autocnet.graph import network\n",
    "from autocnet.examples import get_path, available"
   ]
  },
  {
   "cell_type": "code",
   "execution_count": 2,
   "metadata": {
    "collapsed": false
   },
   "outputs": [
    {
     "name": "stdout",
     "output_type": "stream",
     "text": [
      "/Users/jlaura/github/autocnet/autocnet/examples/\n"
     ]
    },
    {
     "data": {
      "text/plain": [
       "['.DS_Store',\n",
       " 'Apollo15',\n",
       " 'ChemCam',\n",
       " 'LIBS_TEST',\n",
       " 'logging.json',\n",
       " 'logging.yaml',\n",
       " 'lunar_lamb.svg',\n",
       " 'lunar_lamb_wkt.svg',\n",
       " 'Lunar_LRO_LOLA_Shade_MAP2_90.0N20.0_LAMB.tif',\n",
       " 'mars_merc.svg',\n",
       " 'mars_merc_wkt.svg',\n",
       " 'Mars_MGS_MOLA_ClrShade_MAP2_0.0N0.0_MERC.tif',\n",
       " 'Mars_MGS_MOLA_ClrShade_MAP2_90.0N0.0_POLA.tif',\n",
       " 'mars_polar.svg',\n",
       " 'mars_polar_wkt.svg',\n",
       " 'SP_2C_02_02358_S138_E3586.jpg',\n",
       " 'SP_2C_02_02358_S138_E3586.spc',\n",
       " 'SP_2C_02_03860_S136_E3557.spc']"
      ]
     },
     "execution_count": 2,
     "metadata": {},
     "output_type": "execute_result"
    }
   ],
   "source": [
    "available()"
   ]
  },
  {
   "cell_type": "code",
   "execution_count": 3,
   "metadata": {
    "collapsed": false
   },
   "outputs": [
    {
     "name": "stdout",
     "output_type": "stream",
     "text": [
      "/Users/jlaura/github/autocnet/autocnet/examples/Apollo15\n"
     ]
    },
    {
     "data": {
      "text/plain": [
       "['AS15-M-0296_SML.png',\n",
       " 'AS15-M-0297_SML.png',\n",
       " 'AS15-M-0298_SML.png',\n",
       " 'AS15-M-0299_SML.png',\n",
       " 'AS15-M-0300_SML.png']"
      ]
     },
     "execution_count": 3,
     "metadata": {},
     "output_type": "execute_result"
    }
   ],
   "source": [
    "available('Apollo15')"
   ]
  },
  {
   "cell_type": "code",
   "execution_count": null,
   "metadata": {
    "collapsed": false
   },
   "outputs": [],
   "source": [
    "for i in range(296, 301):\n",
    "    p = get_path('AS15-M-0{}_SML.png'.format(i))\n",
    "    print(p)"
   ]
  },
  {
   "cell_type": "code",
   "execution_count": null,
   "metadata": {
    "collapsed": true
   },
   "outputs": [],
   "source": [
    "G = network.CandidateGraph()"
   ]
  },
  {
   "cell_type": "code",
   "execution_count": null,
   "metadata": {
    "collapsed": true
   },
   "outputs": [],
   "source": []
  },
  {
   "cell_type": "code",
   "execution_count": null,
   "metadata": {
    "collapsed": true
   },
   "outputs": [],
   "source": []
  }
 ],
 "metadata": {
  "kernelspec": {
   "display_name": "Python 2",
   "language": "python",
   "name": "python2"
  },
  "language_info": {
   "codemirror_mode": {
    "name": "ipython",
    "version": 2
   },
   "file_extension": ".py",
   "mimetype": "text/x-python",
   "name": "python",
   "nbconvert_exporter": "python",
   "pygments_lexer": "ipython2",
   "version": "2.7.10"
  }
 },
 "nbformat": 4,
 "nbformat_minor": 0
}
