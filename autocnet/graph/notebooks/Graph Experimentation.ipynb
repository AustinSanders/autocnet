{
 "cells": [
  {
   "cell_type": "code",
   "execution_count": 29,
   "metadata": {
    "collapsed": false
   },
   "outputs": [
    {
     "name": "stdout",
     "output_type": "stream",
     "text": [
      "Populating the interactive namespace from numpy and matplotlib\n"
     ]
    }
   ],
   "source": [
    "import networkx as nx\n",
    "\n",
    "from autocnet.graph import network\n",
    "from autocnet.examples import get_path, available\n",
    "from autocnet.fileio import io_gdal\n",
    "%pylab inline"
   ]
  },
  {
   "cell_type": "code",
   "execution_count": 40,
   "metadata": {
    "collapsed": true
   },
   "outputs": [],
   "source": [
    "#Instantiate an empty candidate graph\n",
    "G = network.CandidateGraph()"
   ]
  },
  {
   "cell_type": "code",
   "execution_count": 41,
   "metadata": {
    "collapsed": false
   },
   "outputs": [
    {
     "data": {
      "text/plain": [
       "[AS15-M-0296_SML.png,\n",
       " AS15-M-0297_SML.png,\n",
       " AS15-M-0298_SML.png,\n",
       " AS15-M-0299_SML.png,\n",
       " AS15-M-0300_SML.png]"
      ]
     },
     "execution_count": 41,
     "metadata": {},
     "output_type": "execute_result"
    }
   ],
   "source": [
    "#Get a list of the available sample data\n",
    "images = []\n",
    "for fi in available('Apollo15'):\n",
    "    geods = io_gdal.GeoDataSet(get_path(fi))\n",
    "    images.append(geods)\n",
    "images"
   ]
  },
  {
   "cell_type": "code",
   "execution_count": 42,
   "metadata": {
    "collapsed": false
   },
   "outputs": [],
   "source": [
    "#Manual overlap definition as a dict\n",
    "i = images\n",
    "adjacency = {i[0]:[i[1], i[2], i[3]],\n",
    " i[1]:[i[0], i[2], i[3], i[4]],\n",
    " i[2]:[i[0], i[1], i[3], i[4]],\n",
    " i[3]:[i[0], i[1], i[2], i[4]],\n",
    " i[4]:[i[1], i[2], i[3], i[4]]}"
   ]
  },
  {
   "cell_type": "code",
   "execution_count": 43,
   "metadata": {
    "collapsed": false
   },
   "outputs": [],
   "source": [
    "#Add the images to the graph as nodes\n",
    "for i in images:\n",
    "    G.add_image(i)"
   ]
  },
  {
   "cell_type": "code",
   "execution_count": 44,
   "metadata": {
    "collapsed": false
   },
   "outputs": [
    {
     "data": {
      "image/png": "[encoded data removed]",
      "text/plain": [
       "<matplotlib.figure.Figure at 0x10df66390>"
      ]
     },
     "metadata": {},
     "output_type": "display_data"
    }
   ],
   "source": [
    "nx.draw(G)\n",
    "show()"
   ]
  },
  {
   "cell_type": "code",
   "execution_count": 45,
   "metadata": {
    "collapsed": false
   },
   "outputs": [
    {
     "name": "stdout",
     "output_type": "stream",
     "text": [
      "[AS15-M-0300_SML.png, AS15-M-0299_SML.png, AS15-M-0296_SML.png, AS15-M-0298_SML.png, AS15-M-0297_SML.png]\n"
     ]
    }
   ],
   "source": [
    "print G.nodes()"
   ]
  },
  {
   "cell_type": "code",
   "execution_count": 46,
   "metadata": {
    "collapsed": false
   },
   "outputs": [],
   "source": [
    "#Add single edges to the graph\n",
    "basename = 'AS15-M-0{}_SML.png'\n",
    "for k,v in adjacency.iteritems():\n",
    "    for i in v:\n",
    "\n",
    "        G.add_edge(k,i, key='overlap')\n",
    "    "
   ]
  },
  {
   "cell_type": "code",
   "execution_count": 49,
   "metadata": {
    "collapsed": false
   },
   "outputs": [
    {
     "data": {
      "image/png": "[encoded data removed]",
      "text/plain": [
       "<matplotlib.figure.Figure at 0x10e84a210>"
      ]
     },
     "metadata": {},
     "output_type": "display_data"
    }
   ],
   "source": [
    "nx.draw(G, label=G.nodes())\n",
    "show()"
   ]
  },
  {
   "cell_type": "code",
   "execution_count": 48,
   "metadata": {
    "collapsed": false
   },
   "outputs": [
    {
     "name": "stdout",
     "output_type": "stream",
     "text": [
      "[AS15-M-0300_SML.png, AS15-M-0299_SML.png, AS15-M-0296_SML.png, AS15-M-0298_SML.png, AS15-M-0297_SML.png]\n"
     ]
    }
   ],
   "source": [
    "print G.nodes()"
   ]
  },
  {
   "cell_type": "code",
   "execution_count": null,
   "metadata": {
    "collapsed": true
   },
   "outputs": [],
   "source": []
  }
 ],
 "metadata": {
  "kernelspec": {
   "display_name": "Python 2",
   "language": "python",
   "name": "python2"
  },
  "language_info": {
   "codemirror_mode": {
    "name": "ipython",
    "version": 2
   },
   "file_extension": ".py",
   "mimetype": "text/x-python",
   "name": "python",
   "nbconvert_exporter": "python",
   "pygments_lexer": "ipython2",
   "version": "2.7.10"
  }
 },
 "nbformat": 4,
 "nbformat_minor": 0
}
