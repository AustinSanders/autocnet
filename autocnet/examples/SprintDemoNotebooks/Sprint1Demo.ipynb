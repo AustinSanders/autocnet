{
 "cells": [
  {
   "cell_type": "code",
   "execution_count": 1,
   "metadata": {
    "collapsed": false
   },
   "outputs": [
    {
     "ename": "ImportError",
     "evalue": "No module named 'autocnet'",
     "output_type": "error",
     "traceback": [
      "\u001b[1;31m---------------------------------------------------------------------------\u001b[0m",
      "\u001b[1;31mImportError\u001b[0m                               Traceback (most recent call last)",
      "\u001b[1;32m<ipython-input-1-02bf64fbffb2>\u001b[0m in \u001b[0;36m<module>\u001b[1;34m()\u001b[0m\n\u001b[0;32m      1\u001b[0m \u001b[1;32mimport\u001b[0m \u001b[0mos\u001b[0m\u001b[1;33m\u001b[0m\u001b[0m\n\u001b[1;32m----> 2\u001b[1;33m \u001b[1;32mimport\u001b[0m \u001b[0mautocnet\u001b[0m\u001b[1;33m\u001b[0m\u001b[0m\n\u001b[0m\u001b[0;32m      3\u001b[0m \u001b[1;32mimport\u001b[0m \u001b[0mnetworkx\u001b[0m \u001b[1;32mas\u001b[0m \u001b[0mnx\u001b[0m\u001b[1;33m\u001b[0m\u001b[0m\n\u001b[0;32m      4\u001b[0m \u001b[1;32mimport\u001b[0m \u001b[0mcv2\u001b[0m\u001b[1;33m\u001b[0m\u001b[0m\n\u001b[0;32m      5\u001b[0m \u001b[1;33m\u001b[0m\u001b[0m\n",
      "\u001b[1;31mImportError\u001b[0m: No module named 'autocnet'"
     ]
    }
   ],
   "source": [
    "import os\n",
    "import cv2\n",
    "import networkx as nx\n",
    "\n",
    "import sys\n",
    "sys.path.insert(0, '/scratch/autocnet')\n",
    "\n",
    "from scipy.misc import bytescale\n",
    "\n",
    "import autocnet\n",
    "import autocnet.fileio.io_json as io_json\n",
    "\n",
    "from autocnet.examples import get_path\n",
    "from autocnet.fileio.io_gdal import GeoDataset\n",
    "from autocnet.graph.network import CandidateGraph\n",
    "from autocnet.matcher import feature_extractor as fe\n",
    "from autocnet.matcher.matcher import FlannMatcher\n",
    "\n",
    "\n",
    "%pylab qt4"
   ]
  },
  {
   "cell_type": "code",
   "execution_count": 2,
   "metadata": {
    "collapsed": false
   },
   "outputs": [
    {
     "name": "stdout",
     "output_type": "stream",
     "text": [
      "<class 'dict'>\n",
      "{'AS15-M-0298_SML.png': ['AS15-M-0297_SML.png'], 'AS15-M-0297_SML.png': ['AS15-M-0298_SML.png']}\n"
     ]
    }
   ],
   "source": [
    "# View the input json adjacency file\n",
    "adjacency_file = get_path('two_image_adjacency.json')\n",
    "# This file is a dictionary of images with a corresponding list of known adjacent images\n",
    "print(type(io_json.read_json(adjacency_file)))\n",
    "print( io_json.read_json(adjacency_file))"
   ]
  },
  {
   "cell_type": "code",
   "execution_count": 3,
   "metadata": {
    "collapsed": false
   },
   "outputs": [],
   "source": [
    "# Set up dictionary of images and their serial numbers.\n",
    "serial_numbers = {'AS15-M-0295_SML.png': 'APOLLO15/METRIC/1971-07-31T01:24:11.754',\n",
    "                  'AS15-M-0296_SML.png': 'APOLLO15/METRIC/1971-07-31T01:24:36.970',\n",
    "                  'AS15-M-0297_SML.png': 'APOLLO15/METRIC/1971-07-31T01:25:02.243',\n",
    "                  'AS15-M-0298_SML.png': 'APOLLO15/METRIC/1971-07-31T01:25:27.457',\n",
    "                  'AS15-M-0299_SML.png': 'APOLLO15/METRIC/1971-07-31T01:25:52.669',\n",
    "                  'AS15-M-0300_SML.png': 'APOLLO15/METRIC/1971-07-31T01:26:17.923'}\n",
    "\n",
    "# Create an adjacency graph from a json file\n",
    "adjacencyGraph = CandidateGraph.from_adjacency(adjacency_file)\n",
    "nx.draw(adjacencyGraph)"
   ]
  },
  {
   "cell_type": "code",
   "execution_count": 4,
   "metadata": {
    "collapsed": false
   },
   "outputs": [],
   "source": [
    "# Extract image data and attribute nodes\n",
    "\n",
    "# Get the path without file name\n",
    "basepath = os.path.dirname(adjacency_file)\n",
    "\n",
    "# Loop through the nodes (i.e. file names) on the graph and fill in their attributes dictionaries.\n",
    "# These attributes are...\n",
    "#      geo dataset file name (as handle)\n",
    "#      image data (as an NumPy array)\n",
    "#      features (as keypoints and descriptors)\n",
    "for node, attributes in adjacencyGraph.nodes_iter(data=True):\n",
    "    \n",
    "    attributes['handle'] = GeoDataset(os.path.join(basepath, node))\n",
    "    attributes['image'] = bytescale(attributes['handle'].read_array())\n",
    "    attributes['keypoints'], attributes['descriptors'] = fe.extract_features(attributes['image'], \n",
    "                                                                             {'nfeatures' : 25})"
   ]
  },
  {
   "cell_type": "code",
   "execution_count": 5,
   "metadata": {
    "collapsed": true
   },
   "outputs": [],
   "source": [
    "# Apply a FLANN matcher\n",
    "matcher = FlannMatcher()\n",
    "\n",
    "# Loop through the nodes on the graph and feature descriptors to the matcher\n",
    "for node, attributes in adjacencyGraph.nodes_iter(data=True): \n",
    "    matcher.add(attributes['descriptors'], key=node)\n",
    "    \n",
    "# build KD-Tree using the feature descriptors\n",
    "matcher.train()"
   ]
  },
  {
   "cell_type": "code",
   "execution_count": 6,
   "metadata": {
    "collapsed": false
   },
   "outputs": [],
   "source": [
    "# Loop through the nodes on the graph to find all features that match at 1 neighbor\n",
    "# These matches are returned as PANDAS dataframes and added to the adjacency graph\n",
    "for node, attributes in adjacencyGraph.nodes_iter(data=True):\n",
    "    descriptors = attributes['descriptors']\n",
    "    matches = matcher.query(descriptors, 2)\n",
    "    adjacencyGraph.add_matches(node, matches) "
   ]
  },
  {
   "cell_type": "code",
   "execution_count": 14,
   "metadata": {
    "collapsed": false
   },
   "outputs": [],
   "source": [
    "# rewrite matcher::query method to return matches from knnMatch() call\n",
    "def demo_get_matches(self, descriptor, k=3, self_neighbor=True):\n",
    "    idx = 0\n",
    "    if self_neighbor:\n",
    "        idx = 1\n",
    "    return self._flann_matcher.knnMatch(descriptor, k=k)\n",
    "\n",
    "img = []\n",
    "for node, attributes in adjacencyGraph.nodes_iter(data=True):\n",
    "    \n",
    "    descriptors = attributes['descriptors']\n",
    "    \n",
    "    matches = demo_get_matches(matcher, descriptors, 2)\n",
    "    \n",
    "    draw_params = dict(matchColor = (0,255,0),\n",
    "                   singlePointColor = (255,0,0),\n",
    "                   matchesMask = None,\n",
    "                   flags = 0)\n",
    "    \n",
    "    img.append(cv2.drawMatchesKnn(cv2.imread(get_path(adjacencyGraph.nodes()[0])),\n",
    "                                  adjacencyGraph.node[adjacencyGraph.nodes()[0]]['keypoints'],\n",
    "                                  cv2.imread(get_path(adjacencyGraph.nodes()[1])),\n",
    "                                  adjacencyGraph.node[adjacencyGraph.nodes()[1]]['keypoints'],\n",
    "                                  matches, \n",
    "                                  None, \n",
    "                                  flags=2))"
   ]
  },
  {
   "cell_type": "code",
   "execution_count": 16,
   "metadata": {
    "collapsed": true
   },
   "outputs": [],
   "source": [
    "plt.figure(0)\n",
    "plt.imshow(img[0])\n",
    "\n",
    "plt.figure(1)\n",
    "plt.imshow(img[1])\n",
    "\n",
    "plt.show()"
   ]
  }
 ],
 "metadata": {
  "kernelspec": {
   "display_name": "Python 3",
   "language": "python",
   "name": "python3"
  },
  "language_info": {
   "codemirror_mode": {
    "name": "ipython",
    "version": 3
   },
   "file_extension": ".py",
   "mimetype": "text/x-python",
   "name": "python",
   "nbconvert_exporter": "python",
   "pygments_lexer": "ipython3",
   "version": "3.5.1"
  }
 },
 "nbformat": 4,
 "nbformat_minor": 0
}
